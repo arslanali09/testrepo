{
 "cells": [
  {
   "cell_type": "code",
   "execution_count": 1,
   "id": "2ff15c11",
   "metadata": {},
   "outputs": [
    {
     "ename": "ImportError",
     "evalue": "cannot import name 'pyplt' from 'matplotlib' (c:\\python\\lib\\site-packages\\matplotlib\\__init__.py)",
     "output_type": "error",
     "traceback": [
      "\u001b[1;31m---------------------------------------------------------------------------\u001b[0m",
      "\u001b[1;31mImportError\u001b[0m                               Traceback (most recent call last)",
      "\u001b[1;32m~\\AppData\\Local\\Temp/ipykernel_13196/2687543156.py\u001b[0m in \u001b[0;36m<module>\u001b[1;34m\u001b[0m\n\u001b[0;32m      1\u001b[0m \u001b[1;32mimport\u001b[0m \u001b[0mnumpy\u001b[0m \u001b[1;32mas\u001b[0m \u001b[0mnp\u001b[0m\u001b[1;33m\u001b[0m\u001b[1;33m\u001b[0m\u001b[0m\n\u001b[0;32m      2\u001b[0m \u001b[1;32mimport\u001b[0m \u001b[0mpandas\u001b[0m \u001b[1;32mas\u001b[0m \u001b[0mpd\u001b[0m\u001b[1;33m\u001b[0m\u001b[1;33m\u001b[0m\u001b[0m\n\u001b[1;32m----> 3\u001b[1;33m \u001b[1;32mfrom\u001b[0m \u001b[0mmatplotlib\u001b[0m \u001b[1;32mimport\u001b[0m \u001b[0mpyplt\u001b[0m \u001b[1;32mas\u001b[0m \u001b[0mplt\u001b[0m\u001b[1;33m\u001b[0m\u001b[1;33m\u001b[0m\u001b[0m\n\u001b[0m",
      "\u001b[1;31mImportError\u001b[0m: cannot import name 'pyplt' from 'matplotlib' (c:\\python\\lib\\site-packages\\matplotlib\\__init__.py)"
     ]
    }
   ],
   "source": [
    "import numpy as np \n",
    "\n",
    "from matplotlib import pyplt as plt"
   ]
  },
  {
   "cell_type": "code",
   "execution_count": 16,
   "id": "c2765a8b",
   "metadata": {},
   "outputs": [],
   "source": [
    "# operaters types\n",
    "#1 arthimatic operators \"+,-,/,*\"\n",
    "#2 relation operators \"<,>,==,>=,<=,!=\"\n",
    "#3 logical operatos \"&,|\"\n",
    "...............................\n",
    "#1 arthimatic operators\n"
   ]
  },
  {
   "cell_type": "code",
   "execution_count": 9,
   "id": "7e3f1c27",
   "metadata": {},
   "outputs": [
    {
     "data": {
      "text/plain": [
       "True"
      ]
     },
     "execution_count": 9,
     "metadata": {},
     "output_type": "execute_result"
    }
   ],
   "source": [
    "#1 arthimatic operators \"+,-,/,*\"\n",
    "a = 3\n",
    "b = 4\n",
    "a + b\n",
    "a/b\n",
    "a!=b"
   ]
  },
  {
   "cell_type": "code",
   "execution_count": 5,
   "id": "7334792b",
   "metadata": {},
   "outputs": [
    {
     "data": {
      "text/plain": [
       "True"
      ]
     },
     "execution_count": 5,
     "metadata": {},
     "output_type": "execute_result"
    }
   ],
   "source": [
    "#2 relation operators \"<,>,==,>=,<=\"\n",
    "a>b\n",
    "a<b"
   ]
  },
  {
   "cell_type": "code",
   "execution_count": 12,
   "id": "767e4e80",
   "metadata": {},
   "outputs": [
    {
     "data": {
      "text/plain": [
       "True"
      ]
     },
     "execution_count": 12,
     "metadata": {},
     "output_type": "execute_result"
    }
   ],
   "source": [
    "#3 logical operatos \"&,|\"\n",
    "c= True\n",
    "d = False\n",
    "c&d\n",
    "d|c"
   ]
  },
  {
   "cell_type": "code",
   "execution_count": 23,
   "id": "463d5d14",
   "metadata": {},
   "outputs": [
    {
     "data": {
      "text/plain": [
       "2"
      ]
     },
     "execution_count": 23,
     "metadata": {},
     "output_type": "execute_result"
    }
   ],
   "source": [
    "my_str = \" Hello Word! \"\n",
    "my_str.lower()\n",
    "my_str.upper()\n",
    "my_str.count(\"l\")\n"
   ]
  },
  {
   "cell_type": "code",
   "execution_count": 24,
   "id": "8f5f5763",
   "metadata": {},
   "outputs": [
    {
     "data": {
      "text/plain": [
       "11"
      ]
     },
     "execution_count": 24,
     "metadata": {},
     "output_type": "execute_result"
    }
   ],
   "source": [
    "len(my_str)"
   ]
  },
  {
   "cell_type": "code",
   "execution_count": 26,
   "id": "3a75fade",
   "metadata": {},
   "outputs": [
    {
     "data": {
      "text/plain": [
       "'Jello Word!'"
      ]
     },
     "execution_count": 26,
     "metadata": {},
     "output_type": "execute_result"
    }
   ],
   "source": [
    "my_str.replace('H','J')"
   ]
  },
  {
   "cell_type": "code",
   "execution_count": 27,
   "id": "89c88890",
   "metadata": {},
   "outputs": [
    {
     "data": {
      "text/plain": [
       "6"
      ]
     },
     "execution_count": 27,
     "metadata": {},
     "output_type": "execute_result"
    }
   ],
   "source": [
    "my_str.find(\"Word\")"
   ]
  },
  {
   "cell_type": "code",
   "execution_count": 28,
   "id": "02cb833f",
   "metadata": {},
   "outputs": [
    {
     "data": {
      "text/plain": [
       "'Hello Word!'"
      ]
     },
     "execution_count": 28,
     "metadata": {},
     "output_type": "execute_result"
    }
   ],
   "source": [
    "my_str"
   ]
  },
  {
   "cell_type": "code",
   "execution_count": 30,
   "id": "817ea597",
   "metadata": {},
   "outputs": [
    {
     "data": {
      "text/plain": [
       "['Hello', 'Word!']"
      ]
     },
     "execution_count": 30,
     "metadata": {},
     "output_type": "execute_result"
    }
   ],
   "source": [
    "my_str.split(\" \")"
   ]
  },
  {
   "cell_type": "code",
   "execution_count": 37,
   "id": "f114e24f",
   "metadata": {},
   "outputs": [
    {
     "data": {
      "text/plain": [
       "(1, True, 3.14, 'a')"
      ]
     },
     "execution_count": 37,
     "metadata": {},
     "output_type": "execute_result"
    }
   ],
   "source": [
    "tup1 = (1,True,3.14,'a')\n",
    "tup1"
   ]
  },
  {
   "cell_type": "code",
   "execution_count": 45,
   "id": "48854a34",
   "metadata": {},
   "outputs": [
    {
     "data": {
      "text/plain": [
       "(1, True)"
      ]
     },
     "execution_count": 45,
     "metadata": {},
     "output_type": "execute_result"
    }
   ],
   "source": [
    "tup1[0:2]"
   ]
  },
  {
   "cell_type": "code",
   "execution_count": 51,
   "id": "9685c4ff",
   "metadata": {},
   "outputs": [],
   "source": [
    "tup2 = (1,2,3)\n",
    "tup3 = (4,4,6)\n"
   ]
  },
  {
   "cell_type": "code",
   "execution_count": 55,
   "id": "651bf7b5",
   "metadata": {},
   "outputs": [
    {
     "data": {
      "text/plain": [
       "5"
      ]
     },
     "execution_count": 55,
     "metadata": {},
     "output_type": "execute_result"
    }
   ],
   "source": [
    "tup2[0] + tup3[1]"
   ]
  },
  {
   "cell_type": "code",
   "execution_count": 65,
   "id": "94805920",
   "metadata": {},
   "outputs": [
    {
     "data": {
      "text/plain": [
       "(4, 4, 6, 4, 4, 6, 4, 4, 6, 1, 2, 3)"
      ]
     },
     "execution_count": 65,
     "metadata": {},
     "output_type": "execute_result"
    }
   ],
   "source": [
    "a= tup3*3 + tup2\n",
    "a"
   ]
  },
  {
   "cell_type": "code",
   "execution_count": 62,
   "id": "51c15f19",
   "metadata": {},
   "outputs": [
    {
     "data": {
      "text/plain": [
       "1"
      ]
     },
     "execution_count": 62,
     "metadata": {},
     "output_type": "execute_result"
    }
   ],
   "source": [
    "min(a)"
   ]
  },
  {
   "cell_type": "code",
   "execution_count": 63,
   "id": "23eac807",
   "metadata": {},
   "outputs": [
    {
     "data": {
      "text/plain": [
       "6"
      ]
     },
     "execution_count": 63,
     "metadata": {},
     "output_type": "execute_result"
    }
   ],
   "source": [
    "max(a)"
   ]
  },
  {
   "cell_type": "code",
   "execution_count": 66,
   "id": "fac47458",
   "metadata": {},
   "outputs": [
    {
     "data": {
      "text/plain": [
       "list"
      ]
     },
     "execution_count": 66,
     "metadata": {},
     "output_type": "execute_result"
    }
   ],
   "source": [
    "l1 = [1,'asad','3.4',4]\n",
    "type(l1)"
   ]
  },
  {
   "cell_type": "code",
   "execution_count": 67,
   "id": "2b509567",
   "metadata": {},
   "outputs": [
    {
     "data": {
      "text/plain": [
       "'3.4'"
      ]
     },
     "execution_count": 67,
     "metadata": {},
     "output_type": "execute_result"
    }
   ],
   "source": [
    "l1[2]"
   ]
  },
  {
   "cell_type": "code",
   "execution_count": 71,
   "id": "b67674fd",
   "metadata": {},
   "outputs": [
    {
     "data": {
      "text/plain": [
       "[2, 'asad', '3.4']"
      ]
     },
     "execution_count": 71,
     "metadata": {},
     "output_type": "execute_result"
    }
   ],
   "source": [
    "l1[0]=2\n",
    "l1"
   ]
  },
  {
   "cell_type": "code",
   "execution_count": 70,
   "id": "dd8e8e6d",
   "metadata": {},
   "outputs": [
    {
     "data": {
      "text/plain": [
       "[2, 'asad', '3.4']"
      ]
     },
     "execution_count": 70,
     "metadata": {},
     "output_type": "execute_result"
    }
   ],
   "source": [
    "l1"
   ]
  },
  {
   "cell_type": "code",
   "execution_count": 72,
   "id": "93d35ae7",
   "metadata": {},
   "outputs": [
    {
     "data": {
      "text/plain": [
       "[2, 'asad', '3.4', 1]"
      ]
     },
     "execution_count": 72,
     "metadata": {},
     "output_type": "execute_result"
    }
   ],
   "source": [
    "l1.append(1)\n",
    "l1"
   ]
  },
  {
   "cell_type": "code",
   "execution_count": 74,
   "id": "f236fa85",
   "metadata": {},
   "outputs": [
    {
     "data": {
      "text/plain": [
       "[2, 'asad']"
      ]
     },
     "execution_count": 74,
     "metadata": {},
     "output_type": "execute_result"
    }
   ],
   "source": [
    "l1.pop(2)\n",
    "l1"
   ]
  },
  {
   "cell_type": "code",
   "execution_count": 75,
   "id": "d4a277fb",
   "metadata": {},
   "outputs": [
    {
     "data": {
      "text/plain": [
       "['apple', 'orange', 'banana', 'cheery']"
      ]
     },
     "execution_count": 75,
     "metadata": {},
     "output_type": "execute_result"
    }
   ],
   "source": [
    "l = ['apple','orange','banana','cheery']\n",
    "l"
   ]
  },
  {
   "cell_type": "code",
   "execution_count": 77,
   "id": "2c299dc9",
   "metadata": {},
   "outputs": [
    {
     "data": {
      "text/plain": [
       "['apple', 'orange', 'banana', 'mango', 'cheery']"
      ]
     },
     "execution_count": 77,
     "metadata": {},
     "output_type": "execute_result"
    }
   ],
   "source": [
    "l.insert(3,\"mango\")\n",
    "l"
   ]
  },
  {
   "cell_type": "code",
   "execution_count": 80,
   "id": "0a6197c9",
   "metadata": {},
   "outputs": [
    {
     "data": {
      "text/plain": [
       "['apple', 'banana', 'cheery', 'mango', 'orange']"
      ]
     },
     "execution_count": 80,
     "metadata": {},
     "output_type": "execute_result"
    }
   ],
   "source": [
    "l.sort()\n",
    "l"
   ]
  },
  {
   "cell_type": "code",
   "execution_count": 81,
   "id": "a5bd5968",
   "metadata": {},
   "outputs": [
    {
     "data": {
      "text/plain": [
       "{'name': 'Asad', 'age': 34}"
      ]
     },
     "execution_count": 81,
     "metadata": {},
     "output_type": "execute_result"
    }
   ],
   "source": [
    "dic = {\"name\": 'Asad',\"age\":34}\n",
    "dic"
   ]
  },
  {
   "cell_type": "code",
   "execution_count": 334,
   "id": "72f85de6",
   "metadata": {},
   "outputs": [
    {
     "data": {
      "text/plain": [
       "dict_keys(['age', 'name', 'address', 'height', 'roll_no'])"
      ]
     },
     "execution_count": 334,
     "metadata": {},
     "output_type": "execute_result"
    }
   ],
   "source": [
    "dic.keys()"
   ]
  },
  {
   "cell_type": "code",
   "execution_count": 335,
   "id": "842fff66",
   "metadata": {},
   "outputs": [
    {
     "data": {
      "text/plain": [
       "dict_values([35, 'asad', '58 gosha', 34, 'R-1212'])"
      ]
     },
     "execution_count": 335,
     "metadata": {},
     "output_type": "execute_result"
    }
   ],
   "source": [
    "dic.values()"
   ]
  },
  {
   "cell_type": "code",
   "execution_count": 336,
   "id": "f7ef1013",
   "metadata": {},
   "outputs": [
    {
     "data": {
      "text/plain": [
       "{'age': 70,\n",
       " 'name': 'asad',\n",
       " 'address': '58 gosha',\n",
       " 'height': 34,\n",
       " 'roll_no': 'R-1212'}"
      ]
     },
     "execution_count": 336,
     "metadata": {},
     "output_type": "execute_result"
    }
   ],
   "source": [
    "dic[\"age\"] = 70\n",
    "dic"
   ]
  },
  {
   "cell_type": "code",
   "execution_count": 87,
   "id": "bb0033e5",
   "metadata": {},
   "outputs": [
    {
     "data": {
      "text/plain": [
       "{'age': 35}"
      ]
     },
     "execution_count": 87,
     "metadata": {},
     "output_type": "execute_result"
    }
   ],
   "source": [
    "dic.pop(\"name\")\n",
    "dic"
   ]
  },
  {
   "cell_type": "code",
   "execution_count": 92,
   "id": "a108c64c",
   "metadata": {},
   "outputs": [
    {
     "data": {
      "text/plain": [
       "{'age': 35, 'name': 'asad', 'address': '58 gosha'}"
      ]
     },
     "execution_count": 92,
     "metadata": {},
     "output_type": "execute_result"
    }
   ],
   "source": [
    "dic2 = {\"name\":'asad','address':'58 gosha'}\n",
    "dic.update(dic2)\n",
    "dic"
   ]
  },
  {
   "cell_type": "code",
   "execution_count": 104,
   "id": "739eb086",
   "metadata": {},
   "outputs": [
    {
     "data": {
      "text/plain": [
       "{'age': 35,\n",
       " 'name': 'asad',\n",
       " 'address': '58 gosha',\n",
       " 1: 'height',\n",
       " 0: 'height',\n",
       " 'namw': 'height',\n",
       " 'height': 34}"
      ]
     },
     "execution_count": 104,
     "metadata": {},
     "output_type": "execute_result"
    }
   ],
   "source": [
    "dic['height'] = 34\n",
    "dic"
   ]
  },
  {
   "cell_type": "code",
   "execution_count": 111,
   "id": "b3199a64",
   "metadata": {},
   "outputs": [
    {
     "data": {
      "text/plain": [
       "{'age': 35, 'name': 'asad', 'address': '58 gosha', 'height': 34}"
      ]
     },
     "execution_count": 111,
     "metadata": {},
     "output_type": "execute_result"
    }
   ],
   "source": [
    "dic.pop('namw')\n",
    "dic"
   ]
  },
  {
   "cell_type": "code",
   "execution_count": 112,
   "id": "fd68f117",
   "metadata": {},
   "outputs": [
    {
     "data": {
      "text/plain": [
       "{'age': 35, 'name': 'asad', 'address': '58 gosha', 'height': 34}"
      ]
     },
     "execution_count": 112,
     "metadata": {},
     "output_type": "execute_result"
    }
   ],
   "source": [
    "dic"
   ]
  },
  {
   "cell_type": "code",
   "execution_count": 114,
   "id": "f2bdfab1",
   "metadata": {},
   "outputs": [
    {
     "data": {
      "text/plain": [
       "{'age': 35,\n",
       " 'name': 'asad',\n",
       " 'address': '58 gosha',\n",
       " 'height': 34,\n",
       " 'roll_no': 'R-1212'}"
      ]
     },
     "execution_count": 114,
     "metadata": {},
     "output_type": "execute_result"
    }
   ],
   "source": [
    "dic['roll_no']= 'R-1212'\n",
    "dic"
   ]
  },
  {
   "cell_type": "code",
   "execution_count": 119,
   "id": "6567e846",
   "metadata": {},
   "outputs": [
    {
     "data": {
      "text/plain": [
       "{'age': 35,\n",
       " 'name': 'asad',\n",
       " 'address': '58 gosha',\n",
       " 'height': 34,\n",
       " 'roll_no': 'R-1212'}"
      ]
     },
     "execution_count": 119,
     "metadata": {},
     "output_type": "execute_result"
    }
   ],
   "source": [
    "dic.keys()\n",
    "dic"
   ]
  },
  {
   "cell_type": "code",
   "execution_count": 122,
   "id": "2ca97229",
   "metadata": {},
   "outputs": [
    {
     "data": {
      "text/plain": [
       "{1, 3.14, 5j, 66767, 'hello', 'spara'}"
      ]
     },
     "execution_count": 122,
     "metadata": {},
     "output_type": "execute_result"
    }
   ],
   "source": [
    "s1 = {1,3.14,'spara',3.14}\n",
    "s1.update(['hello', 66767,5j])\n",
    "s1"
   ]
  },
  {
   "cell_type": "code",
   "execution_count": 123,
   "id": "45e650e7",
   "metadata": {},
   "outputs": [
    {
     "data": {
      "text/plain": [
       "{1, 3.14, 5j, 66767, 'False', 'hello', 'spara'}"
      ]
     },
     "execution_count": 123,
     "metadata": {},
     "output_type": "execute_result"
    }
   ],
   "source": [
    "s1.add('False')\n",
    "s1"
   ]
  },
  {
   "cell_type": "code",
   "execution_count": 124,
   "id": "f6755a9e",
   "metadata": {},
   "outputs": [
    {
     "data": {
      "text/plain": [
       "{1, 3.14, 5j, 66767, 'False', 'hello'}"
      ]
     },
     "execution_count": 124,
     "metadata": {},
     "output_type": "execute_result"
    }
   ],
   "source": [
    "s1.remove('spara')\n",
    "s1"
   ]
  },
  {
   "cell_type": "code",
   "execution_count": 129,
   "id": "60880a49",
   "metadata": {},
   "outputs": [
    {
     "data": {
      "text/plain": [
       "{1, 3, 5, 7}"
      ]
     },
     "execution_count": 129,
     "metadata": {},
     "output_type": "execute_result"
    }
   ],
   "source": [
    "s2 = {1,3,5}\n",
    "s3 = {5,7,5}\n",
    "s2.union(s3)\n"
   ]
  },
  {
   "cell_type": "code",
   "execution_count": 132,
   "id": "65d9dd92",
   "metadata": {},
   "outputs": [
    {
     "name": "stdout",
     "output_type": "stream",
     "text": [
      "False\n"
     ]
    }
   ],
   "source": [
    "# if Statemets Loop\n",
    "\n",
    "if(5>5):\n",
    "    print('True')\n",
    "else:\n",
    "    print('False')"
   ]
  },
  {
   "cell_type": "code",
   "execution_count": 148,
   "id": "fb71ea5f",
   "metadata": {},
   "outputs": [
    {
     "name": "stdout",
     "output_type": "stream",
     "text": [
      "Flase\n"
     ]
    }
   ],
   "source": [
    "if (5>6) | (5>5):\n",
    "    print('True')    \n",
    "elif (6>5) &(6<4):\n",
    "    print('True')   \n",
    "else:\n",
    "    print('Flase')\n",
    "    "
   ]
  },
  {
   "cell_type": "code",
   "execution_count": 150,
   "id": "e043d21c",
   "metadata": {},
   "outputs": [],
   "source": [
    "d1 = ('z','s','d')"
   ]
  },
  {
   "cell_type": "code",
   "execution_count": 152,
   "id": "c74f91b7",
   "metadata": {},
   "outputs": [
    {
     "name": "stdout",
     "output_type": "stream",
     "text": [
      "False\n"
     ]
    }
   ],
   "source": [
    "if 'a' in d1:\n",
    "    print('True')\n",
    "else:\n",
    "    print('False')"
   ]
  },
  {
   "cell_type": "code",
   "execution_count": 153,
   "id": "0765d8f8",
   "metadata": {},
   "outputs": [
    {
     "data": {
      "text/plain": [
       "{'name': ['ali', 'asad', 'hina'], 'age': [32, 23, 45], 'height': [12, 43, 66]}"
      ]
     },
     "execution_count": 153,
     "metadata": {},
     "output_type": "execute_result"
    }
   ],
   "source": [
    "d = {\"name\":['ali','asad','hina'],\n",
    "    \"age\":[32,23,45],\n",
    "    \"height\":[12,43,66]}\n",
    "d"
   ]
  },
  {
   "cell_type": "code",
   "execution_count": 157,
   "id": "52e31b7d",
   "metadata": {},
   "outputs": [
    {
     "name": "stdout",
     "output_type": "stream",
     "text": [
      "Requirement already satisfied: pandas in c:\\anaconda3\\lib\\site-packages (1.2.4)\n",
      "Requirement already satisfied: python-dateutil>=2.7.3 in c:\\anaconda3\\lib\\site-packages (from pandas) (2.8.1)\n",
      "Requirement already satisfied: pytz>=2017.3 in c:\\anaconda3\\lib\\site-packages (from pandas) (2021.1)\n",
      "Requirement already satisfied: numpy>=1.16.5 in c:\\anaconda3\\lib\\site-packages (from pandas) (1.20.1)\n",
      "Requirement already satisfied: six>=1.5 in c:\\anaconda3\\lib\\site-packages (from python-dateutil>=2.7.3->pandas) (1.15.0)\n",
      "Note: you may need to restart the kernel to use updated packages.\n"
     ]
    }
   ],
   "source": [
    "pip install pandas"
   ]
  },
  {
   "cell_type": "code",
   "execution_count": 155,
   "id": "eaf55541",
   "metadata": {},
   "outputs": [
    {
     "ename": "AttributeError",
     "evalue": "module 'pandas' has no attribute 'DataFram'",
     "output_type": "error",
     "traceback": [
      "\u001b[1;31m---------------------------------------------------------------------------\u001b[0m",
      "\u001b[1;31mAttributeError\u001b[0m                            Traceback (most recent call last)",
      "\u001b[1;32m<ipython-input-155-ec77f35c2b50>\u001b[0m in \u001b[0;36m<module>\u001b[1;34m\u001b[0m\n\u001b[0;32m      1\u001b[0m \u001b[1;32mimport\u001b[0m \u001b[0mpandas\u001b[0m \u001b[1;32mas\u001b[0m \u001b[0mpd\u001b[0m\u001b[1;33m\u001b[0m\u001b[1;33m\u001b[0m\u001b[0m\n\u001b[1;32m----> 2\u001b[1;33m \u001b[0mpd\u001b[0m\u001b[1;33m.\u001b[0m\u001b[0mDataFram\u001b[0m\u001b[1;33m(\u001b[0m\u001b[0md\u001b[0m\u001b[1;33m)\u001b[0m\u001b[1;33m\u001b[0m\u001b[1;33m\u001b[0m\u001b[0m\n\u001b[0m",
      "\u001b[1;32mC:\\Anaconda3\\lib\\site-packages\\pandas\\__init__.py\u001b[0m in \u001b[0;36m__getattr__\u001b[1;34m(name)\u001b[0m\n\u001b[0;32m    242\u001b[0m         \u001b[1;32mreturn\u001b[0m \u001b[0m_SparseArray\u001b[0m\u001b[1;33m\u001b[0m\u001b[1;33m\u001b[0m\u001b[0m\n\u001b[0;32m    243\u001b[0m \u001b[1;33m\u001b[0m\u001b[0m\n\u001b[1;32m--> 244\u001b[1;33m     \u001b[1;32mraise\u001b[0m \u001b[0mAttributeError\u001b[0m\u001b[1;33m(\u001b[0m\u001b[1;34mf\"module 'pandas' has no attribute '{name}'\"\u001b[0m\u001b[1;33m)\u001b[0m\u001b[1;33m\u001b[0m\u001b[1;33m\u001b[0m\u001b[0m\n\u001b[0m\u001b[0;32m    245\u001b[0m \u001b[1;33m\u001b[0m\u001b[0m\n\u001b[0;32m    246\u001b[0m \u001b[1;33m\u001b[0m\u001b[0m\n",
      "\u001b[1;31mAttributeError\u001b[0m: module 'pandas' has no attribute 'DataFram'"
     ]
    }
   ],
   "source": [
    "import pandas as pd\n",
    "pd.DataFram(d)"
   ]
  },
  {
   "cell_type": "code",
   "execution_count": 158,
   "id": "c0815c13",
   "metadata": {},
   "outputs": [
    {
     "name": "stdout",
     "output_type": "stream",
     "text": [
      "I am making a call\n",
      "play game\n"
     ]
    }
   ],
   "source": [
    "#Class\n",
    "class Phone():\n",
    "    def make_call(self):\n",
    "        print('I am making a call')\n",
    "    def play_game(self):\n",
    "        print('play game')\n",
    "p1 = Phone()\n",
    "p1.make_call()\n",
    "p1.play_game()"
   ]
  },
  {
   "cell_type": "code",
   "execution_count": 159,
   "id": "ccd8c418",
   "metadata": {},
   "outputs": [],
   "source": [
    "class Phone:\n",
    "    def set_color(self,color):\n",
    "        self.color=color\n",
    "    def set_cost(self,cost):\n",
    "        self.cost=cost\n",
    "    def show_color(self):\n",
    "        return self.color\n",
    "    def show_cost(self):\n",
    "        return self.cost\n",
    "    def make_call(self):\n",
    "        print('I am making a call')\n",
    "    def play_game(self):\n",
    "        print('play game')\n",
    " "
   ]
  },
  {
   "cell_type": "code",
   "execution_count": 160,
   "id": "7118b416",
   "metadata": {},
   "outputs": [],
   "source": [
    "p2 = Phone()"
   ]
  },
  {
   "cell_type": "code",
   "execution_count": 162,
   "id": "d460c511",
   "metadata": {},
   "outputs": [],
   "source": [
    "p2.set_color('red')\n",
    "p2.set_cost(46666)"
   ]
  },
  {
   "cell_type": "code",
   "execution_count": 165,
   "id": "935872e0",
   "metadata": {},
   "outputs": [
    {
     "data": {
      "text/plain": [
       "'red'"
      ]
     },
     "execution_count": 165,
     "metadata": {},
     "output_type": "execute_result"
    }
   ],
   "source": [
    "p2.show_color()\n"
   ]
  },
  {
   "cell_type": "code",
   "execution_count": 166,
   "id": "499073c7",
   "metadata": {},
   "outputs": [
    {
     "data": {
      "text/plain": [
       "46666"
      ]
     },
     "execution_count": 166,
     "metadata": {},
     "output_type": "execute_result"
    }
   ],
   "source": [
    "p2.show_cost()"
   ]
  },
  {
   "cell_type": "code",
   "execution_count": 187,
   "id": "c6f4e52b",
   "metadata": {},
   "outputs": [],
   "source": [
    "class Employee:\n",
    "    def __init__(self,name,age,salary): #constructor\n",
    "        self.name = name;\n",
    "        self.age = age;\n",
    "        self.salary =salary;\n",
    "    def Employee_details(self): #normal method\n",
    "        print(\"Name of employee is \"+self.name)\n",
    "        print(\"Age of employee\"+ self.age)\n",
    "        print(\"Salary of employee\"+ self.salary)"
   ]
  },
  {
   "cell_type": "code",
   "execution_count": 195,
   "id": "a5e38096",
   "metadata": {},
   "outputs": [
    {
     "name": "stdout",
     "output_type": "stream",
     "text": [
      "Name of employee is Arslan\n",
      "Age of employee 34\n",
      "Salary of employee 30000\n"
     ]
    }
   ],
   "source": [
    "e1 = Employee('Arslan',' 34',' 30000') #object\n",
    "e1.Employee_details()"
   ]
  },
  {
   "cell_type": "code",
   "execution_count": 198,
   "id": "22bc8219",
   "metadata": {},
   "outputs": [
    {
     "name": "stdout",
     "output_type": "stream",
     "text": [
      "Arslan is Employee of this Company\n",
      "24 is Age\n"
     ]
    }
   ],
   "source": [
    "class Company(Employee):\n",
    "    def user_details(self):\n",
    "        print(self.name +' is Employee of this Company')\n",
    "        print(self.age +' Age')\n",
    "e2 = Company(\"Arslan\",'24','30000')\n",
    "e2.user_details()"
   ]
  },
  {
   "cell_type": "code",
   "execution_count": 217,
   "id": "952f0f55",
   "metadata": {},
   "outputs": [],
   "source": [
    "class Vehical:\n",
    "    def __init__(self,mileage,cost):\n",
    "        self.mileage = mileage\n",
    "        self.cost = cost\n",
    "    def show_vehical_details(self):\n",
    "        print('Meleage of Vehical is ',self.mileage)\n",
    "        print('Cost of Vehical is ',self.cost)\n",
    "        print('I am car')"
   ]
  },
  {
   "cell_type": "code",
   "execution_count": 218,
   "id": "ff5cfb1f",
   "metadata": {},
   "outputs": [],
   "source": [
    "V1 = Vehical('300','500')"
   ]
  },
  {
   "cell_type": "code",
   "execution_count": 219,
   "id": "946cd67d",
   "metadata": {},
   "outputs": [
    {
     "name": "stdout",
     "output_type": "stream",
     "text": [
      "Meleage of Vehical is  300\n",
      "Cost of Vehical is  500\n",
      "I am car\n"
     ]
    }
   ],
   "source": [
    "V1.show_vehical_details()"
   ]
  },
  {
   "cell_type": "code",
   "execution_count": 223,
   "id": "35613f9b",
   "metadata": {},
   "outputs": [],
   "source": [
    "class Car(Vehical):\n",
    "    def show_car_details(self):\n",
    "        print('I am Vehical')"
   ]
  },
  {
   "cell_type": "code",
   "execution_count": 224,
   "id": "e523aa93",
   "metadata": {},
   "outputs": [
    {
     "name": "stdout",
     "output_type": "stream",
     "text": [
      "I am Vehical\n"
     ]
    }
   ],
   "source": [
    "c1 = Car(300,500)\n",
    "c1.show_car_details()"
   ]
  },
  {
   "cell_type": "code",
   "execution_count": 225,
   "id": "25292672",
   "metadata": {},
   "outputs": [
    {
     "name": "stdout",
     "output_type": "stream",
     "text": [
      "Meleage of Vehical is  300\n",
      "Cost of Vehical is  500\n",
      "I am car\n"
     ]
    }
   ],
   "source": [
    "c1.show_vehical_details()"
   ]
  },
  {
   "cell_type": "code",
   "execution_count": 254,
   "id": "060aebd3",
   "metadata": {},
   "outputs": [],
   "source": [
    "class vehical:\n",
    "    def __init__(self,mil,cost):\n",
    "        self.mileage = mil\n",
    "        self.cost = cost\n",
    "    def show_vehical_details(self):\n",
    "        print('Meleage  ',self.mil)\n",
    "        print('Cost of  ',self.cost)\n",
    "        print(' car')"
   ]
  },
  {
   "cell_type": "code",
   "execution_count": 255,
   "id": "237c96ef",
   "metadata": {},
   "outputs": [],
   "source": [
    "v1 = vehical(300,500)"
   ]
  },
  {
   "cell_type": "code",
   "execution_count": 257,
   "id": "b87de51f",
   "metadata": {},
   "outputs": [],
   "source": [
    "C1 = Car(600,10000,8,999)"
   ]
  },
  {
   "cell_type": "code",
   "execution_count": 291,
   "id": "bce0596a",
   "metadata": {},
   "outputs": [],
   "source": [
    "# Multiple inheritance 2 Parent in 1 Child\n",
    "class Parent1:\n",
    "    def assign_string_one(self,str1):\n",
    "        self.str1 = str1\n",
    "    def show_string_one(self):\n",
    "        return self.str1"
   ]
  },
  {
   "cell_type": "code",
   "execution_count": 284,
   "id": "03b89754",
   "metadata": {},
   "outputs": [],
   "source": [
    "class Parent2:\n",
    "    def assign_string_two(self,str2):\n",
    "        self.str2 = str2\n",
    "    def show_string_two(self):\n",
    "        return self.str2"
   ]
  },
  {
   "cell_type": "code",
   "execution_count": 285,
   "id": "2b7904d1",
   "metadata": {},
   "outputs": [],
   "source": [
    "class Child(Parent1,Parent2):\n",
    "    def assign_string_three(self,str3):\n",
    "        self.str3 = str3\n",
    "    def show_string_three(self):\n",
    "        return self.str3"
   ]
  },
  {
   "cell_type": "code",
   "execution_count": 286,
   "id": "6d3c5aae",
   "metadata": {},
   "outputs": [],
   "source": [
    "my_child = Child()"
   ]
  },
  {
   "cell_type": "code",
   "execution_count": 287,
   "id": "96fe7229",
   "metadata": {},
   "outputs": [],
   "source": [
    "my_child.assign_string_one(\"I am string of parent 1\")"
   ]
  },
  {
   "cell_type": "code",
   "execution_count": 288,
   "id": "ebb7f75b",
   "metadata": {},
   "outputs": [],
   "source": [
    "my_child.assign_string_two(\"I am string of parent 2\")"
   ]
  },
  {
   "cell_type": "code",
   "execution_count": 289,
   "id": "34e33b92",
   "metadata": {},
   "outputs": [],
   "source": [
    "my_child.assign_string_three(\"I am string of parent 3\")"
   ]
  },
  {
   "cell_type": "code",
   "execution_count": 290,
   "id": "a2749f07",
   "metadata": {},
   "outputs": [
    {
     "data": {
      "text/plain": [
       "'I am string of parent 1'"
      ]
     },
     "execution_count": 290,
     "metadata": {},
     "output_type": "execute_result"
    }
   ],
   "source": [
    "my_child.show_string_one()"
   ]
  },
  {
   "cell_type": "code",
   "execution_count": 281,
   "id": "05a6aeed",
   "metadata": {},
   "outputs": [
    {
     "data": {
      "text/plain": [
       "'I am string of parent 2'"
      ]
     },
     "execution_count": 281,
     "metadata": {},
     "output_type": "execute_result"
    }
   ],
   "source": [
    "my_child.show_string_two()"
   ]
  },
  {
   "cell_type": "code",
   "execution_count": 282,
   "id": "8446bc79",
   "metadata": {},
   "outputs": [
    {
     "data": {
      "text/plain": [
       "'I am string of parent 3'"
      ]
     },
     "execution_count": 282,
     "metadata": {},
     "output_type": "execute_result"
    }
   ],
   "source": [
    "my_child.show_string_three()"
   ]
  },
  {
   "cell_type": "code",
   "execution_count": null,
   "id": "156cd669",
   "metadata": {},
   "outputs": [],
   "source": [
    "#Multiple Inhiretence"
   ]
  },
  {
   "cell_type": "code",
   "execution_count": 292,
   "id": "dc25879e",
   "metadata": {},
   "outputs": [],
   "source": [
    "class Parent:\n",
    "    def get_name(self,name):\n",
    "        self.name = name\n",
    "    def show_name(self):\n",
    "        return self.name\n"
   ]
  },
  {
   "cell_type": "code",
   "execution_count": 294,
   "id": "33d1e4aa",
   "metadata": {},
   "outputs": [],
   "source": [
    "class Child(Parent):\n",
    "    def get_age(self,age):\n",
    "        self.age = age\n",
    "    def show_age(self):\n",
    "        return self.age"
   ]
  },
  {
   "cell_type": "code",
   "execution_count": 295,
   "id": "052cfdd5",
   "metadata": {},
   "outputs": [],
   "source": [
    "class Grand_Child(Child):\n",
    "    def get_gender(self,gender):\n",
    "        self.gender = gender\n",
    "    def show_gender(self):\n",
    "        return self.gender"
   ]
  },
  {
   "cell_type": "code",
   "execution_count": 297,
   "id": "98168a1f",
   "metadata": {},
   "outputs": [],
   "source": [
    "gc = Grand_Child() "
   ]
  },
  {
   "cell_type": "code",
   "execution_count": 300,
   "id": "b07eeebf",
   "metadata": {},
   "outputs": [],
   "source": [
    "gc.get_name('Arslan')\n",
    "gc.get_age(34)\n",
    "gc.get_gender('Male')"
   ]
  },
  {
   "cell_type": "code",
   "execution_count": 302,
   "id": "3106ade4",
   "metadata": {},
   "outputs": [
    {
     "data": {
      "text/plain": [
       "'Arslan'"
      ]
     },
     "execution_count": 302,
     "metadata": {},
     "output_type": "execute_result"
    }
   ],
   "source": [
    "gc.show_name()\n"
   ]
  },
  {
   "cell_type": "code",
   "execution_count": 303,
   "id": "e57a879a",
   "metadata": {},
   "outputs": [
    {
     "data": {
      "text/plain": [
       "34"
      ]
     },
     "execution_count": 303,
     "metadata": {},
     "output_type": "execute_result"
    }
   ],
   "source": [
    "gc.show_age()\n"
   ]
  },
  {
   "cell_type": "code",
   "execution_count": 304,
   "id": "fd1ae09c",
   "metadata": {},
   "outputs": [
    {
     "data": {
      "text/plain": [
       "'Male'"
      ]
     },
     "execution_count": 304,
     "metadata": {},
     "output_type": "execute_result"
    }
   ],
   "source": [
    "gc.show_gender()"
   ]
  },
  {
   "cell_type": "code",
   "execution_count": 305,
   "id": "c9a952f5",
   "metadata": {},
   "outputs": [],
   "source": [
    "import numpy as np"
   ]
  },
  {
   "cell_type": "code",
   "execution_count": 306,
   "id": "6336ae0c",
   "metadata": {},
   "outputs": [],
   "source": [
    "a = np.array([[1,2,3,4],[5,6,7,8]])"
   ]
  },
  {
   "cell_type": "code",
   "execution_count": 307,
   "id": "ff81492e",
   "metadata": {},
   "outputs": [
    {
     "data": {
      "text/plain": [
       "array([[1, 2, 3, 4],\n",
       "       [5, 6, 7, 8]])"
      ]
     },
     "execution_count": 307,
     "metadata": {},
     "output_type": "execute_result"
    }
   ],
   "source": [
    "a"
   ]
  },
  {
   "cell_type": "code",
   "execution_count": 310,
   "id": "ed53cd00",
   "metadata": {},
   "outputs": [
    {
     "data": {
      "text/plain": [
       "(2, 4)"
      ]
     },
     "execution_count": 310,
     "metadata": {},
     "output_type": "execute_result"
    }
   ],
   "source": [
    "a.shape"
   ]
  },
  {
   "cell_type": "code",
   "execution_count": 312,
   "id": "3593ded3",
   "metadata": {},
   "outputs": [],
   "source": [
    "l1 = [3.45,5,6]"
   ]
  },
  {
   "cell_type": "code",
   "execution_count": 313,
   "id": "80f74927",
   "metadata": {},
   "outputs": [],
   "source": [
    "n1 = np.array(l1)"
   ]
  },
  {
   "cell_type": "code",
   "execution_count": 321,
   "id": "313b90b5",
   "metadata": {},
   "outputs": [
    {
     "data": {
      "text/plain": [
       "numpy.ndarray"
      ]
     },
     "execution_count": 321,
     "metadata": {},
     "output_type": "execute_result"
    }
   ],
   "source": [
    "type(n1)"
   ]
  },
  {
   "cell_type": "code",
   "execution_count": 323,
   "id": "210b14f2",
   "metadata": {},
   "outputs": [],
   "source": [
    "n3 = np.zeros((10,10))"
   ]
  },
  {
   "cell_type": "code",
   "execution_count": 339,
   "id": "eb6e619c",
   "metadata": {},
   "outputs": [],
   "source": [
    "import pandas as pd"
   ]
  },
  {
   "cell_type": "code",
   "execution_count": 341,
   "id": "9b1e8a7b",
   "metadata": {},
   "outputs": [],
   "source": [
    "n2 = pd.DataFrame(n3)"
   ]
  },
  {
   "cell_type": "code",
   "execution_count": 344,
   "id": "0e637ffc",
   "metadata": {},
   "outputs": [],
   "source": [
    "n2.columns = list(\"ABCDEFGHIJ\")"
   ]
  },
  {
   "cell_type": "code",
   "execution_count": 345,
   "id": "5da76603",
   "metadata": {},
   "outputs": [
    {
     "data": {
      "text/html": [
       "<div>\n",
       "<style scoped>\n",
       "    .dataframe tbody tr th:only-of-type {\n",
       "        vertical-align: middle;\n",
       "    }\n",
       "\n",
       "    .dataframe tbody tr th {\n",
       "        vertical-align: top;\n",
       "    }\n",
       "\n",
       "    .dataframe thead th {\n",
       "        text-align: right;\n",
       "    }\n",
       "</style>\n",
       "<table border=\"1\" class=\"dataframe\">\n",
       "  <thead>\n",
       "    <tr style=\"text-align: right;\">\n",
       "      <th></th>\n",
       "      <th>A</th>\n",
       "      <th>B</th>\n",
       "      <th>C</th>\n",
       "      <th>D</th>\n",
       "      <th>E</th>\n",
       "      <th>F</th>\n",
       "      <th>G</th>\n",
       "      <th>H</th>\n",
       "      <th>I</th>\n",
       "      <th>J</th>\n",
       "    </tr>\n",
       "  </thead>\n",
       "  <tbody>\n",
       "    <tr>\n",
       "      <th>0</th>\n",
       "      <td>0.0</td>\n",
       "      <td>0.0</td>\n",
       "      <td>0.0</td>\n",
       "      <td>0.0</td>\n",
       "      <td>0.0</td>\n",
       "      <td>0.0</td>\n",
       "      <td>0.0</td>\n",
       "      <td>0.0</td>\n",
       "      <td>0.0</td>\n",
       "      <td>0.0</td>\n",
       "    </tr>\n",
       "    <tr>\n",
       "      <th>1</th>\n",
       "      <td>0.0</td>\n",
       "      <td>0.0</td>\n",
       "      <td>0.0</td>\n",
       "      <td>0.0</td>\n",
       "      <td>0.0</td>\n",
       "      <td>0.0</td>\n",
       "      <td>0.0</td>\n",
       "      <td>0.0</td>\n",
       "      <td>0.0</td>\n",
       "      <td>0.0</td>\n",
       "    </tr>\n",
       "    <tr>\n",
       "      <th>2</th>\n",
       "      <td>0.0</td>\n",
       "      <td>0.0</td>\n",
       "      <td>0.0</td>\n",
       "      <td>0.0</td>\n",
       "      <td>0.0</td>\n",
       "      <td>0.0</td>\n",
       "      <td>0.0</td>\n",
       "      <td>0.0</td>\n",
       "      <td>0.0</td>\n",
       "      <td>0.0</td>\n",
       "    </tr>\n",
       "    <tr>\n",
       "      <th>3</th>\n",
       "      <td>0.0</td>\n",
       "      <td>0.0</td>\n",
       "      <td>0.0</td>\n",
       "      <td>0.0</td>\n",
       "      <td>0.0</td>\n",
       "      <td>0.0</td>\n",
       "      <td>0.0</td>\n",
       "      <td>0.0</td>\n",
       "      <td>0.0</td>\n",
       "      <td>0.0</td>\n",
       "    </tr>\n",
       "    <tr>\n",
       "      <th>4</th>\n",
       "      <td>0.0</td>\n",
       "      <td>0.0</td>\n",
       "      <td>0.0</td>\n",
       "      <td>0.0</td>\n",
       "      <td>0.0</td>\n",
       "      <td>0.0</td>\n",
       "      <td>0.0</td>\n",
       "      <td>0.0</td>\n",
       "      <td>0.0</td>\n",
       "      <td>0.0</td>\n",
       "    </tr>\n",
       "    <tr>\n",
       "      <th>5</th>\n",
       "      <td>0.0</td>\n",
       "      <td>0.0</td>\n",
       "      <td>0.0</td>\n",
       "      <td>0.0</td>\n",
       "      <td>0.0</td>\n",
       "      <td>0.0</td>\n",
       "      <td>0.0</td>\n",
       "      <td>0.0</td>\n",
       "      <td>0.0</td>\n",
       "      <td>0.0</td>\n",
       "    </tr>\n",
       "    <tr>\n",
       "      <th>6</th>\n",
       "      <td>0.0</td>\n",
       "      <td>0.0</td>\n",
       "      <td>0.0</td>\n",
       "      <td>0.0</td>\n",
       "      <td>0.0</td>\n",
       "      <td>0.0</td>\n",
       "      <td>0.0</td>\n",
       "      <td>0.0</td>\n",
       "      <td>0.0</td>\n",
       "      <td>0.0</td>\n",
       "    </tr>\n",
       "    <tr>\n",
       "      <th>7</th>\n",
       "      <td>0.0</td>\n",
       "      <td>0.0</td>\n",
       "      <td>0.0</td>\n",
       "      <td>0.0</td>\n",
       "      <td>0.0</td>\n",
       "      <td>0.0</td>\n",
       "      <td>0.0</td>\n",
       "      <td>0.0</td>\n",
       "      <td>0.0</td>\n",
       "      <td>0.0</td>\n",
       "    </tr>\n",
       "    <tr>\n",
       "      <th>8</th>\n",
       "      <td>0.0</td>\n",
       "      <td>0.0</td>\n",
       "      <td>0.0</td>\n",
       "      <td>0.0</td>\n",
       "      <td>0.0</td>\n",
       "      <td>0.0</td>\n",
       "      <td>0.0</td>\n",
       "      <td>0.0</td>\n",
       "      <td>0.0</td>\n",
       "      <td>0.0</td>\n",
       "    </tr>\n",
       "    <tr>\n",
       "      <th>9</th>\n",
       "      <td>0.0</td>\n",
       "      <td>0.0</td>\n",
       "      <td>0.0</td>\n",
       "      <td>0.0</td>\n",
       "      <td>0.0</td>\n",
       "      <td>0.0</td>\n",
       "      <td>0.0</td>\n",
       "      <td>0.0</td>\n",
       "      <td>0.0</td>\n",
       "      <td>0.0</td>\n",
       "    </tr>\n",
       "  </tbody>\n",
       "</table>\n",
       "</div>"
      ],
      "text/plain": [
       "     A    B    C    D    E    F    G    H    I    J\n",
       "0  0.0  0.0  0.0  0.0  0.0  0.0  0.0  0.0  0.0  0.0\n",
       "1  0.0  0.0  0.0  0.0  0.0  0.0  0.0  0.0  0.0  0.0\n",
       "2  0.0  0.0  0.0  0.0  0.0  0.0  0.0  0.0  0.0  0.0\n",
       "3  0.0  0.0  0.0  0.0  0.0  0.0  0.0  0.0  0.0  0.0\n",
       "4  0.0  0.0  0.0  0.0  0.0  0.0  0.0  0.0  0.0  0.0\n",
       "5  0.0  0.0  0.0  0.0  0.0  0.0  0.0  0.0  0.0  0.0\n",
       "6  0.0  0.0  0.0  0.0  0.0  0.0  0.0  0.0  0.0  0.0\n",
       "7  0.0  0.0  0.0  0.0  0.0  0.0  0.0  0.0  0.0  0.0\n",
       "8  0.0  0.0  0.0  0.0  0.0  0.0  0.0  0.0  0.0  0.0\n",
       "9  0.0  0.0  0.0  0.0  0.0  0.0  0.0  0.0  0.0  0.0"
      ]
     },
     "execution_count": 345,
     "metadata": {},
     "output_type": "execute_result"
    }
   ],
   "source": [
    "n2"
   ]
  },
  {
   "cell_type": "code",
   "execution_count": 346,
   "id": "6178f19c",
   "metadata": {},
   "outputs": [
    {
     "data": {
      "text/plain": [
       "array([[0., 0., 0., 0., 0., 0., 0., 0., 0., 0.],\n",
       "       [0., 0., 0., 0., 0., 0., 0., 0., 0., 0.],\n",
       "       [0., 0., 0., 0., 0., 0., 0., 0., 0., 0.],\n",
       "       [0., 0., 0., 0., 0., 0., 0., 0., 0., 0.],\n",
       "       [0., 0., 0., 0., 0., 0., 0., 0., 0., 0.],\n",
       "       [0., 0., 0., 0., 0., 0., 0., 0., 0., 0.],\n",
       "       [0., 0., 0., 0., 0., 0., 0., 0., 0., 0.],\n",
       "       [0., 0., 0., 0., 0., 0., 0., 0., 0., 0.],\n",
       "       [0., 0., 0., 0., 0., 0., 0., 0., 0., 0.],\n",
       "       [0., 0., 0., 0., 0., 0., 0., 0., 0., 0.]])"
      ]
     },
     "execution_count": 346,
     "metadata": {},
     "output_type": "execute_result"
    }
   ],
   "source": [
    "n3"
   ]
  },
  {
   "cell_type": "code",
   "execution_count": 350,
   "id": "e74591ac",
   "metadata": {},
   "outputs": [],
   "source": [
    "np4 = np.full((3,3),10)"
   ]
  },
  {
   "cell_type": "code",
   "execution_count": 348,
   "id": "c88f48b3",
   "metadata": {},
   "outputs": [
    {
     "data": {
      "text/plain": [
       "array([[10, 10, 10],\n",
       "       [10, 10, 10],\n",
       "       [10, 10, 10]])"
      ]
     },
     "execution_count": 348,
     "metadata": {},
     "output_type": "execute_result"
    }
   ],
   "source": [
    "np4"
   ]
  },
  {
   "cell_type": "code",
   "execution_count": 351,
   "id": "6dd449ee",
   "metadata": {},
   "outputs": [
    {
     "data": {
      "text/plain": [
       "array([10, 11, 12, 13, 14, 15, 16, 17, 18, 19])"
      ]
     },
     "execution_count": 351,
     "metadata": {},
     "output_type": "execute_result"
    }
   ],
   "source": [
    "np5 = np.arange(10,20) #print 10-19\n",
    "np5"
   ]
  },
  {
   "cell_type": "code",
   "execution_count": 353,
   "id": "251bc721",
   "metadata": {},
   "outputs": [
    {
     "data": {
      "text/plain": [
       "array([ 5, 10, 15, 20, 25, 30, 35, 40, 45, 50])"
      ]
     },
     "execution_count": 353,
     "metadata": {},
     "output_type": "execute_result"
    }
   ],
   "source": [
    "np6 = np.arange(5,51,5) #gape 5\n",
    "np6"
   ]
  },
  {
   "cell_type": "code",
   "execution_count": 360,
   "id": "ab31600f",
   "metadata": {},
   "outputs": [],
   "source": [
    "np1 = np.random.randint(5,51,5) #olny 5 number"
   ]
  },
  {
   "cell_type": "code",
   "execution_count": 361,
   "id": "41dd03a6",
   "metadata": {},
   "outputs": [
    {
     "data": {
      "text/plain": [
       "array([26, 34, 30, 48, 43])"
      ]
     },
     "execution_count": 361,
     "metadata": {},
     "output_type": "execute_result"
    }
   ],
   "source": [
    "np1"
   ]
  },
  {
   "cell_type": "code",
   "execution_count": 365,
   "id": "4c44765c",
   "metadata": {},
   "outputs": [
    {
     "data": {
      "text/plain": [
       "array([[10, 10, 10],\n",
       "       [10, 10, 10],\n",
       "       [10, 10, 10]])"
      ]
     },
     "execution_count": 365,
     "metadata": {},
     "output_type": "execute_result"
    }
   ],
   "source": [
    "\n",
    "np4"
   ]
  },
  {
   "cell_type": "code",
   "execution_count": 366,
   "id": "3635ac80",
   "metadata": {},
   "outputs": [
    {
     "data": {
      "text/plain": [
       "(3, 3)"
      ]
     },
     "execution_count": 366,
     "metadata": {},
     "output_type": "execute_result"
    }
   ],
   "source": [
    "np4.shape"
   ]
  },
  {
   "cell_type": "code",
   "execution_count": 370,
   "id": "218076f5",
   "metadata": {},
   "outputs": [],
   "source": [
    "np4.shape = (9,1)"
   ]
  },
  {
   "cell_type": "code",
   "execution_count": 371,
   "id": "45af47f7",
   "metadata": {},
   "outputs": [
    {
     "data": {
      "text/plain": [
       "array([[10],\n",
       "       [10],\n",
       "       [10],\n",
       "       [10],\n",
       "       [10],\n",
       "       [10],\n",
       "       [10],\n",
       "       [10],\n",
       "       [10]])"
      ]
     },
     "execution_count": 371,
     "metadata": {},
     "output_type": "execute_result"
    }
   ],
   "source": [
    "np4"
   ]
  },
  {
   "cell_type": "code",
   "execution_count": 372,
   "id": "5b8f0060",
   "metadata": {},
   "outputs": [],
   "source": [
    "n1 = np.array([1,2,3])"
   ]
  },
  {
   "cell_type": "code",
   "execution_count": 373,
   "id": "55f7db90",
   "metadata": {},
   "outputs": [],
   "source": [
    "n2 = np.array([2,3,4])"
   ]
  },
  {
   "cell_type": "code",
   "execution_count": 377,
   "id": "11b76a7d",
   "metadata": {},
   "outputs": [
    {
     "data": {
      "text/plain": [
       "array([[2, 3, 4],\n",
       "       [1, 2, 3]])"
      ]
     },
     "execution_count": 377,
     "metadata": {},
     "output_type": "execute_result"
    }
   ],
   "source": [
    "np.vstack((n2,n1))"
   ]
  },
  {
   "cell_type": "code",
   "execution_count": 379,
   "id": "a56fbeb8",
   "metadata": {},
   "outputs": [
    {
     "data": {
      "text/plain": [
       "array([2, 3, 4, 1, 2, 3])"
      ]
     },
     "execution_count": 379,
     "metadata": {},
     "output_type": "execute_result"
    }
   ],
   "source": [
    "np.hstack((n2,n1))"
   ]
  },
  {
   "cell_type": "code",
   "execution_count": 381,
   "id": "7cc6ebb6",
   "metadata": {},
   "outputs": [
    {
     "data": {
      "text/plain": [
       "array([[1, 2],\n",
       "       [2, 3],\n",
       "       [3, 4]])"
      ]
     },
     "execution_count": 381,
     "metadata": {},
     "output_type": "execute_result"
    }
   ],
   "source": [
    "np.column_stack((n1,n2))"
   ]
  },
  {
   "cell_type": "code",
   "execution_count": 382,
   "id": "6b0a6f2b",
   "metadata": {},
   "outputs": [
    {
     "data": {
      "text/plain": [
       "array([2, 3])"
      ]
     },
     "execution_count": 382,
     "metadata": {},
     "output_type": "execute_result"
    }
   ],
   "source": [
    "np.intersect1d(n1,n2) #duplicate value"
   ]
  },
  {
   "cell_type": "code",
   "execution_count": 385,
   "id": "4be4cc88",
   "metadata": {},
   "outputs": [
    {
     "data": {
      "text/plain": [
       "array([4])"
      ]
     },
     "execution_count": 385,
     "metadata": {},
     "output_type": "execute_result"
    }
   ],
   "source": [
    "np.setdiff1d(n2,n1)"
   ]
  },
  {
   "cell_type": "code",
   "execution_count": 386,
   "id": "cb6c1c54",
   "metadata": {},
   "outputs": [
    {
     "data": {
      "text/plain": [
       "array([1])"
      ]
     },
     "execution_count": 386,
     "metadata": {},
     "output_type": "execute_result"
    }
   ],
   "source": [
    "np.setdiff1d(n1,n2)"
   ]
  },
  {
   "cell_type": "code",
   "execution_count": 392,
   "id": "1282a051",
   "metadata": {},
   "outputs": [],
   "source": [
    "n1 = [10,20]\n",
    "n2 = [30,40]"
   ]
  },
  {
   "cell_type": "code",
   "execution_count": 393,
   "id": "08cab5b8",
   "metadata": {},
   "outputs": [
    {
     "data": {
      "text/plain": [
       "100"
      ]
     },
     "execution_count": 393,
     "metadata": {},
     "output_type": "execute_result"
    }
   ],
   "source": [
    "np.sum([n1,n2])"
   ]
  },
  {
   "cell_type": "code",
   "execution_count": 396,
   "id": "d15626b3",
   "metadata": {},
   "outputs": [
    {
     "data": {
      "text/plain": [
       "array([30, 70])"
      ]
     },
     "execution_count": 396,
     "metadata": {},
     "output_type": "execute_result"
    }
   ],
   "source": [
    "np.sum([n1,n2],axis=1)"
   ]
  },
  {
   "cell_type": "code",
   "execution_count": 401,
   "id": "a2cfdaa5",
   "metadata": {},
   "outputs": [
    {
     "data": {
      "text/plain": [
       "26.666666666666668"
      ]
     },
     "execution_count": 401,
     "metadata": {},
     "output_type": "execute_result"
    }
   ],
   "source": [
    "np3=np.array([10,40,30])\n",
    "np.mean(np3)"
   ]
  },
  {
   "cell_type": "code",
   "execution_count": 402,
   "id": "1a5e8dad",
   "metadata": {},
   "outputs": [
    {
     "data": {
      "text/plain": [
       "30.0"
      ]
     },
     "execution_count": 402,
     "metadata": {},
     "output_type": "execute_result"
    }
   ],
   "source": [
    "np.median(np3)"
   ]
  },
  {
   "cell_type": "code",
   "execution_count": 414,
   "id": "1bb25cc6",
   "metadata": {},
   "outputs": [],
   "source": [
    "p1 = pd.Series([1,2,3,4])"
   ]
  },
  {
   "cell_type": "code",
   "execution_count": 415,
   "id": "894dace3",
   "metadata": {},
   "outputs": [
    {
     "data": {
      "text/plain": [
       "0    1\n",
       "1    2\n",
       "2    3\n",
       "3    4\n",
       "dtype: int64"
      ]
     },
     "execution_count": 415,
     "metadata": {},
     "output_type": "execute_result"
    }
   ],
   "source": [
    "p1"
   ]
  },
  {
   "cell_type": "code",
   "execution_count": 430,
   "id": "3978be82",
   "metadata": {},
   "outputs": [],
   "source": [
    "a = 2.4"
   ]
  },
  {
   "cell_type": "code",
   "execution_count": 436,
   "id": "963651a0",
   "metadata": {},
   "outputs": [
    {
     "data": {
      "text/plain": [
       "'2.4'"
      ]
     },
     "execution_count": 436,
     "metadata": {},
     "output_type": "execute_result"
    }
   ],
   "source": [
    "str(a)\n"
   ]
  },
  {
   "cell_type": "code",
   "execution_count": 435,
   "id": "53a419d8",
   "metadata": {},
   "outputs": [
    {
     "data": {
      "text/plain": [
       "float"
      ]
     },
     "execution_count": 435,
     "metadata": {},
     "output_type": "execute_result"
    }
   ],
   "source": [
    "type(a)"
   ]
  },
  {
   "cell_type": "code",
   "execution_count": 467,
   "id": "d45ec75e",
   "metadata": {},
   "outputs": [],
   "source": [
    "p2 = pd.Series({'a':20,'b':30,'c':50})"
   ]
  },
  {
   "cell_type": "code",
   "execution_count": 468,
   "id": "835519e5",
   "metadata": {},
   "outputs": [],
   "source": [
    "p3 = pd.Series({'d':10,'e':60,'f':70})"
   ]
  },
  {
   "cell_type": "code",
   "execution_count": 469,
   "id": "3a0b32c0",
   "metadata": {},
   "outputs": [
    {
     "data": {
      "text/plain": [
       "a   NaN\n",
       "b   NaN\n",
       "c   NaN\n",
       "d   NaN\n",
       "e   NaN\n",
       "f   NaN\n",
       "dtype: float64"
      ]
     },
     "execution_count": 469,
     "metadata": {},
     "output_type": "execute_result"
    }
   ],
   "source": [
    "p2+p3"
   ]
  },
  {
   "cell_type": "code",
   "execution_count": 470,
   "id": "33b0fb98",
   "metadata": {},
   "outputs": [
    {
     "data": {
      "text/plain": [
       "0     5\n",
       "1     7\n",
       "2    10\n",
       "dtype: int64"
      ]
     },
     "execution_count": 470,
     "metadata": {},
     "output_type": "execute_result"
    }
   ],
   "source": [
    "s1 = pd.Series([1,2,3])\n",
    "s2 = pd.Series([4,5,7])\n",
    "s1+s2"
   ]
  },
  {
   "cell_type": "code",
   "execution_count": 484,
   "id": "8de6079d",
   "metadata": {},
   "outputs": [
    {
     "data": {
      "text/html": [
       "<div>\n",
       "<style scoped>\n",
       "    .dataframe tbody tr th:only-of-type {\n",
       "        vertical-align: middle;\n",
       "    }\n",
       "\n",
       "    .dataframe tbody tr th {\n",
       "        vertical-align: top;\n",
       "    }\n",
       "\n",
       "    .dataframe thead th {\n",
       "        text-align: right;\n",
       "    }\n",
       "</style>\n",
       "<table border=\"1\" class=\"dataframe\">\n",
       "  <thead>\n",
       "    <tr style=\"text-align: right;\">\n",
       "      <th></th>\n",
       "      <th>name</th>\n",
       "      <th>age</th>\n",
       "    </tr>\n",
       "  </thead>\n",
       "  <tbody>\n",
       "    <tr>\n",
       "      <th>0</th>\n",
       "      <td>Ali</td>\n",
       "      <td>23</td>\n",
       "    </tr>\n",
       "    <tr>\n",
       "      <th>1</th>\n",
       "      <td>Asad</td>\n",
       "      <td>45</td>\n",
       "    </tr>\n",
       "    <tr>\n",
       "      <th>2</th>\n",
       "      <td>hassam</td>\n",
       "      <td>33</td>\n",
       "    </tr>\n",
       "  </tbody>\n",
       "</table>\n",
       "</div>"
      ],
      "text/plain": [
       "     name  age\n",
       "0     Ali   23\n",
       "1    Asad   45\n",
       "2  hassam   33"
      ]
     },
     "execution_count": 484,
     "metadata": {},
     "output_type": "execute_result"
    }
   ],
   "source": [
    "x= pd.DataFrame({\"name\":['Ali','Asad','hassam'],\"age\":[23,45,33]})\n",
    "x"
   ]
  },
  {
   "cell_type": "code",
   "execution_count": 483,
   "id": "eff293c0",
   "metadata": {},
   "outputs": [],
   "source": [
    "x.to_csv(\"dic.csv\",index = False)"
   ]
  },
  {
   "cell_type": "code",
   "execution_count": 491,
   "id": "1cdc66a1",
   "metadata": {},
   "outputs": [
    {
     "data": {
      "text/plain": [
       "0       Ali\n",
       "1      Asad\n",
       "2    hassam\n",
       "Name: name, dtype: object"
      ]
     },
     "execution_count": 491,
     "metadata": {},
     "output_type": "execute_result"
    }
   ],
   "source": [
    "y = x.loc[:2,('name')]\n",
    "y"
   ]
  },
  {
   "cell_type": "code",
   "execution_count": 493,
   "id": "cd4f6a19",
   "metadata": {},
   "outputs": [],
   "source": [
    "df = pd.DataFrame(np.random.rand(334,5),index = np.arange(334))"
   ]
  },
  {
   "cell_type": "code",
   "execution_count": 494,
   "id": "b9b592db",
   "metadata": {},
   "outputs": [
    {
     "data": {
      "text/html": [
       "<div>\n",
       "<style scoped>\n",
       "    .dataframe tbody tr th:only-of-type {\n",
       "        vertical-align: middle;\n",
       "    }\n",
       "\n",
       "    .dataframe tbody tr th {\n",
       "        vertical-align: top;\n",
       "    }\n",
       "\n",
       "    .dataframe thead th {\n",
       "        text-align: right;\n",
       "    }\n",
       "</style>\n",
       "<table border=\"1\" class=\"dataframe\">\n",
       "  <thead>\n",
       "    <tr style=\"text-align: right;\">\n",
       "      <th></th>\n",
       "      <th>0</th>\n",
       "      <th>1</th>\n",
       "      <th>2</th>\n",
       "      <th>3</th>\n",
       "      <th>4</th>\n",
       "    </tr>\n",
       "  </thead>\n",
       "  <tbody>\n",
       "    <tr>\n",
       "      <th>0</th>\n",
       "      <td>0.326001</td>\n",
       "      <td>0.932996</td>\n",
       "      <td>0.417699</td>\n",
       "      <td>0.913155</td>\n",
       "      <td>0.103338</td>\n",
       "    </tr>\n",
       "    <tr>\n",
       "      <th>1</th>\n",
       "      <td>0.739126</td>\n",
       "      <td>0.146782</td>\n",
       "      <td>0.933030</td>\n",
       "      <td>0.910299</td>\n",
       "      <td>0.089911</td>\n",
       "    </tr>\n",
       "    <tr>\n",
       "      <th>2</th>\n",
       "      <td>0.837405</td>\n",
       "      <td>0.329110</td>\n",
       "      <td>0.433011</td>\n",
       "      <td>0.296106</td>\n",
       "      <td>0.473252</td>\n",
       "    </tr>\n",
       "    <tr>\n",
       "      <th>3</th>\n",
       "      <td>0.036361</td>\n",
       "      <td>0.784073</td>\n",
       "      <td>0.256466</td>\n",
       "      <td>0.654225</td>\n",
       "      <td>0.445484</td>\n",
       "    </tr>\n",
       "    <tr>\n",
       "      <th>4</th>\n",
       "      <td>0.045914</td>\n",
       "      <td>0.537175</td>\n",
       "      <td>0.494367</td>\n",
       "      <td>0.963783</td>\n",
       "      <td>0.887703</td>\n",
       "    </tr>\n",
       "    <tr>\n",
       "      <th>...</th>\n",
       "      <td>...</td>\n",
       "      <td>...</td>\n",
       "      <td>...</td>\n",
       "      <td>...</td>\n",
       "      <td>...</td>\n",
       "    </tr>\n",
       "    <tr>\n",
       "      <th>329</th>\n",
       "      <td>0.780272</td>\n",
       "      <td>0.234274</td>\n",
       "      <td>0.057274</td>\n",
       "      <td>0.364951</td>\n",
       "      <td>0.087924</td>\n",
       "    </tr>\n",
       "    <tr>\n",
       "      <th>330</th>\n",
       "      <td>0.916470</td>\n",
       "      <td>0.978719</td>\n",
       "      <td>0.614011</td>\n",
       "      <td>0.585698</td>\n",
       "      <td>0.855150</td>\n",
       "    </tr>\n",
       "    <tr>\n",
       "      <th>331</th>\n",
       "      <td>0.723955</td>\n",
       "      <td>0.915197</td>\n",
       "      <td>0.202361</td>\n",
       "      <td>0.771998</td>\n",
       "      <td>0.810760</td>\n",
       "    </tr>\n",
       "    <tr>\n",
       "      <th>332</th>\n",
       "      <td>0.029631</td>\n",
       "      <td>0.450812</td>\n",
       "      <td>0.085161</td>\n",
       "      <td>0.254788</td>\n",
       "      <td>0.785794</td>\n",
       "    </tr>\n",
       "    <tr>\n",
       "      <th>333</th>\n",
       "      <td>0.747321</td>\n",
       "      <td>0.558879</td>\n",
       "      <td>0.072716</td>\n",
       "      <td>0.511503</td>\n",
       "      <td>0.366573</td>\n",
       "    </tr>\n",
       "  </tbody>\n",
       "</table>\n",
       "<p>334 rows × 5 columns</p>\n",
       "</div>"
      ],
      "text/plain": [
       "            0         1         2         3         4\n",
       "0    0.326001  0.932996  0.417699  0.913155  0.103338\n",
       "1    0.739126  0.146782  0.933030  0.910299  0.089911\n",
       "2    0.837405  0.329110  0.433011  0.296106  0.473252\n",
       "3    0.036361  0.784073  0.256466  0.654225  0.445484\n",
       "4    0.045914  0.537175  0.494367  0.963783  0.887703\n",
       "..        ...       ...       ...       ...       ...\n",
       "329  0.780272  0.234274  0.057274  0.364951  0.087924\n",
       "330  0.916470  0.978719  0.614011  0.585698  0.855150\n",
       "331  0.723955  0.915197  0.202361  0.771998  0.810760\n",
       "332  0.029631  0.450812  0.085161  0.254788  0.785794\n",
       "333  0.747321  0.558879  0.072716  0.511503  0.366573\n",
       "\n",
       "[334 rows x 5 columns]"
      ]
     },
     "execution_count": 494,
     "metadata": {},
     "output_type": "execute_result"
    }
   ],
   "source": [
    "df"
   ]
  },
  {
   "cell_type": "code",
   "execution_count": 498,
   "id": "5c6f49c8",
   "metadata": {},
   "outputs": [
    {
     "data": {
      "text/html": [
       "<div>\n",
       "<style scoped>\n",
       "    .dataframe tbody tr th:only-of-type {\n",
       "        vertical-align: middle;\n",
       "    }\n",
       "\n",
       "    .dataframe tbody tr th {\n",
       "        vertical-align: top;\n",
       "    }\n",
       "\n",
       "    .dataframe thead th {\n",
       "        text-align: right;\n",
       "    }\n",
       "</style>\n",
       "<table border=\"1\" class=\"dataframe\">\n",
       "  <thead>\n",
       "    <tr style=\"text-align: right;\">\n",
       "      <th></th>\n",
       "      <th>0</th>\n",
       "      <th>1</th>\n",
       "      <th>3</th>\n",
       "      <th>4</th>\n",
       "    </tr>\n",
       "  </thead>\n",
       "  <tbody>\n",
       "    <tr>\n",
       "      <th>0</th>\n",
       "      <td>0.326001</td>\n",
       "      <td>0.932996</td>\n",
       "      <td>0.913155</td>\n",
       "      <td>0.103338</td>\n",
       "    </tr>\n",
       "    <tr>\n",
       "      <th>1</th>\n",
       "      <td>0.739126</td>\n",
       "      <td>0.146782</td>\n",
       "      <td>0.910299</td>\n",
       "      <td>0.089911</td>\n",
       "    </tr>\n",
       "    <tr>\n",
       "      <th>2</th>\n",
       "      <td>0.837405</td>\n",
       "      <td>0.329110</td>\n",
       "      <td>0.296106</td>\n",
       "      <td>0.473252</td>\n",
       "    </tr>\n",
       "    <tr>\n",
       "      <th>3</th>\n",
       "      <td>0.036361</td>\n",
       "      <td>0.784073</td>\n",
       "      <td>0.654225</td>\n",
       "      <td>0.445484</td>\n",
       "    </tr>\n",
       "    <tr>\n",
       "      <th>4</th>\n",
       "      <td>0.045914</td>\n",
       "      <td>0.537175</td>\n",
       "      <td>0.963783</td>\n",
       "      <td>0.887703</td>\n",
       "    </tr>\n",
       "    <tr>\n",
       "      <th>...</th>\n",
       "      <td>...</td>\n",
       "      <td>...</td>\n",
       "      <td>...</td>\n",
       "      <td>...</td>\n",
       "    </tr>\n",
       "    <tr>\n",
       "      <th>329</th>\n",
       "      <td>0.780272</td>\n",
       "      <td>0.234274</td>\n",
       "      <td>0.364951</td>\n",
       "      <td>0.087924</td>\n",
       "    </tr>\n",
       "    <tr>\n",
       "      <th>330</th>\n",
       "      <td>0.916470</td>\n",
       "      <td>0.978719</td>\n",
       "      <td>0.585698</td>\n",
       "      <td>0.855150</td>\n",
       "    </tr>\n",
       "    <tr>\n",
       "      <th>331</th>\n",
       "      <td>0.723955</td>\n",
       "      <td>0.915197</td>\n",
       "      <td>0.771998</td>\n",
       "      <td>0.810760</td>\n",
       "    </tr>\n",
       "    <tr>\n",
       "      <th>332</th>\n",
       "      <td>0.029631</td>\n",
       "      <td>0.450812</td>\n",
       "      <td>0.254788</td>\n",
       "      <td>0.785794</td>\n",
       "    </tr>\n",
       "    <tr>\n",
       "      <th>333</th>\n",
       "      <td>0.747321</td>\n",
       "      <td>0.558879</td>\n",
       "      <td>0.511503</td>\n",
       "      <td>0.366573</td>\n",
       "    </tr>\n",
       "  </tbody>\n",
       "</table>\n",
       "<p>334 rows × 4 columns</p>\n",
       "</div>"
      ],
      "text/plain": [
       "            0         1         3         4\n",
       "0    0.326001  0.932996  0.913155  0.103338\n",
       "1    0.739126  0.146782  0.910299  0.089911\n",
       "2    0.837405  0.329110  0.296106  0.473252\n",
       "3    0.036361  0.784073  0.654225  0.445484\n",
       "4    0.045914  0.537175  0.963783  0.887703\n",
       "..        ...       ...       ...       ...\n",
       "329  0.780272  0.234274  0.364951  0.087924\n",
       "330  0.916470  0.978719  0.585698  0.855150\n",
       "331  0.723955  0.915197  0.771998  0.810760\n",
       "332  0.029631  0.450812  0.254788  0.785794\n",
       "333  0.747321  0.558879  0.511503  0.366573\n",
       "\n",
       "[334 rows x 4 columns]"
      ]
     },
     "execution_count": 498,
     "metadata": {},
     "output_type": "execute_result"
    }
   ],
   "source": [
    "df.drop(2,axis =1)"
   ]
  },
  {
   "cell_type": "code",
   "execution_count": 501,
   "id": "6d83697d",
   "metadata": {},
   "outputs": [
    {
     "data": {
      "text/html": [
       "<div>\n",
       "<style scoped>\n",
       "    .dataframe tbody tr th:only-of-type {\n",
       "        vertical-align: middle;\n",
       "    }\n",
       "\n",
       "    .dataframe tbody tr th {\n",
       "        vertical-align: top;\n",
       "    }\n",
       "\n",
       "    .dataframe thead th {\n",
       "        text-align: right;\n",
       "    }\n",
       "</style>\n",
       "<table border=\"1\" class=\"dataframe\">\n",
       "  <thead>\n",
       "    <tr style=\"text-align: right;\">\n",
       "      <th></th>\n",
       "      <th>0</th>\n",
       "      <th>1</th>\n",
       "      <th>2</th>\n",
       "      <th>3</th>\n",
       "      <th>4</th>\n",
       "    </tr>\n",
       "  </thead>\n",
       "  <tbody>\n",
       "    <tr>\n",
       "      <th>0</th>\n",
       "      <td>0.326001</td>\n",
       "      <td>67.000000</td>\n",
       "      <td>0.417699</td>\n",
       "      <td>0.913155</td>\n",
       "      <td>0.103338</td>\n",
       "    </tr>\n",
       "    <tr>\n",
       "      <th>1</th>\n",
       "      <td>0.739126</td>\n",
       "      <td>0.146782</td>\n",
       "      <td>0.933030</td>\n",
       "      <td>0.910299</td>\n",
       "      <td>0.089911</td>\n",
       "    </tr>\n",
       "    <tr>\n",
       "      <th>2</th>\n",
       "      <td>0.837405</td>\n",
       "      <td>0.329110</td>\n",
       "      <td>0.433011</td>\n",
       "      <td>0.296106</td>\n",
       "      <td>0.473252</td>\n",
       "    </tr>\n",
       "    <tr>\n",
       "      <th>3</th>\n",
       "      <td>0.036361</td>\n",
       "      <td>0.784073</td>\n",
       "      <td>0.256466</td>\n",
       "      <td>0.654225</td>\n",
       "      <td>0.445484</td>\n",
       "    </tr>\n",
       "    <tr>\n",
       "      <th>4</th>\n",
       "      <td>0.045914</td>\n",
       "      <td>0.537175</td>\n",
       "      <td>0.494367</td>\n",
       "      <td>0.963783</td>\n",
       "      <td>0.887703</td>\n",
       "    </tr>\n",
       "    <tr>\n",
       "      <th>...</th>\n",
       "      <td>...</td>\n",
       "      <td>...</td>\n",
       "      <td>...</td>\n",
       "      <td>...</td>\n",
       "      <td>...</td>\n",
       "    </tr>\n",
       "    <tr>\n",
       "      <th>329</th>\n",
       "      <td>0.780272</td>\n",
       "      <td>0.234274</td>\n",
       "      <td>0.057274</td>\n",
       "      <td>0.364951</td>\n",
       "      <td>0.087924</td>\n",
       "    </tr>\n",
       "    <tr>\n",
       "      <th>330</th>\n",
       "      <td>0.916470</td>\n",
       "      <td>0.978719</td>\n",
       "      <td>0.614011</td>\n",
       "      <td>0.585698</td>\n",
       "      <td>0.855150</td>\n",
       "    </tr>\n",
       "    <tr>\n",
       "      <th>331</th>\n",
       "      <td>0.723955</td>\n",
       "      <td>0.915197</td>\n",
       "      <td>0.202361</td>\n",
       "      <td>0.771998</td>\n",
       "      <td>0.810760</td>\n",
       "    </tr>\n",
       "    <tr>\n",
       "      <th>332</th>\n",
       "      <td>0.029631</td>\n",
       "      <td>0.450812</td>\n",
       "      <td>0.085161</td>\n",
       "      <td>0.254788</td>\n",
       "      <td>0.785794</td>\n",
       "    </tr>\n",
       "    <tr>\n",
       "      <th>333</th>\n",
       "      <td>0.747321</td>\n",
       "      <td>0.558879</td>\n",
       "      <td>0.072716</td>\n",
       "      <td>0.511503</td>\n",
       "      <td>0.366573</td>\n",
       "    </tr>\n",
       "  </tbody>\n",
       "</table>\n",
       "<p>334 rows × 5 columns</p>\n",
       "</div>"
      ],
      "text/plain": [
       "            0          1         2         3         4\n",
       "0    0.326001  67.000000  0.417699  0.913155  0.103338\n",
       "1    0.739126   0.146782  0.933030  0.910299  0.089911\n",
       "2    0.837405   0.329110  0.433011  0.296106  0.473252\n",
       "3    0.036361   0.784073  0.256466  0.654225  0.445484\n",
       "4    0.045914   0.537175  0.494367  0.963783  0.887703\n",
       "..        ...        ...       ...       ...       ...\n",
       "329  0.780272   0.234274  0.057274  0.364951  0.087924\n",
       "330  0.916470   0.978719  0.614011  0.585698  0.855150\n",
       "331  0.723955   0.915197  0.202361  0.771998  0.810760\n",
       "332  0.029631   0.450812  0.085161  0.254788  0.785794\n",
       "333  0.747321   0.558879  0.072716  0.511503  0.366573\n",
       "\n",
       "[334 rows x 5 columns]"
      ]
     },
     "execution_count": 501,
     "metadata": {},
     "output_type": "execute_result"
    }
   ],
   "source": [
    "df.loc[0][1] = 67\n",
    "df"
   ]
  },
  {
   "cell_type": "code",
   "execution_count": 505,
   "id": "b8ffee56",
   "metadata": {},
   "outputs": [
    {
     "data": {
      "text/html": [
       "<div>\n",
       "<style scoped>\n",
       "    .dataframe tbody tr th:only-of-type {\n",
       "        vertical-align: middle;\n",
       "    }\n",
       "\n",
       "    .dataframe tbody tr th {\n",
       "        vertical-align: top;\n",
       "    }\n",
       "\n",
       "    .dataframe thead th {\n",
       "        text-align: right;\n",
       "    }\n",
       "</style>\n",
       "<table border=\"1\" class=\"dataframe\">\n",
       "  <thead>\n",
       "    <tr style=\"text-align: right;\">\n",
       "      <th></th>\n",
       "      <th>0</th>\n",
       "      <th>1</th>\n",
       "      <th>2</th>\n",
       "      <th>3</th>\n",
       "      <th>4</th>\n",
       "    </tr>\n",
       "  </thead>\n",
       "  <tbody>\n",
       "    <tr>\n",
       "      <th>0</th>\n",
       "      <td>0.326001</td>\n",
       "      <td>67.000000</td>\n",
       "      <td>67.000000</td>\n",
       "      <td>0.913155</td>\n",
       "      <td>0.103338</td>\n",
       "    </tr>\n",
       "    <tr>\n",
       "      <th>1</th>\n",
       "      <td>0.739126</td>\n",
       "      <td>0.146782</td>\n",
       "      <td>0.933030</td>\n",
       "      <td>0.910299</td>\n",
       "      <td>0.089911</td>\n",
       "    </tr>\n",
       "    <tr>\n",
       "      <th>2</th>\n",
       "      <td>0.837405</td>\n",
       "      <td>0.329110</td>\n",
       "      <td>0.433011</td>\n",
       "      <td>0.296106</td>\n",
       "      <td>0.473252</td>\n",
       "    </tr>\n",
       "    <tr>\n",
       "      <th>3</th>\n",
       "      <td>0.036361</td>\n",
       "      <td>0.784073</td>\n",
       "      <td>0.256466</td>\n",
       "      <td>0.654225</td>\n",
       "      <td>0.445484</td>\n",
       "    </tr>\n",
       "    <tr>\n",
       "      <th>4</th>\n",
       "      <td>0.045914</td>\n",
       "      <td>0.537175</td>\n",
       "      <td>0.494367</td>\n",
       "      <td>0.963783</td>\n",
       "      <td>0.887703</td>\n",
       "    </tr>\n",
       "    <tr>\n",
       "      <th>...</th>\n",
       "      <td>...</td>\n",
       "      <td>...</td>\n",
       "      <td>...</td>\n",
       "      <td>...</td>\n",
       "      <td>...</td>\n",
       "    </tr>\n",
       "    <tr>\n",
       "      <th>329</th>\n",
       "      <td>0.780272</td>\n",
       "      <td>0.234274</td>\n",
       "      <td>0.057274</td>\n",
       "      <td>0.364951</td>\n",
       "      <td>0.087924</td>\n",
       "    </tr>\n",
       "    <tr>\n",
       "      <th>330</th>\n",
       "      <td>0.916470</td>\n",
       "      <td>0.978719</td>\n",
       "      <td>0.614011</td>\n",
       "      <td>0.585698</td>\n",
       "      <td>0.855150</td>\n",
       "    </tr>\n",
       "    <tr>\n",
       "      <th>331</th>\n",
       "      <td>0.723955</td>\n",
       "      <td>0.915197</td>\n",
       "      <td>0.202361</td>\n",
       "      <td>0.771998</td>\n",
       "      <td>0.810760</td>\n",
       "    </tr>\n",
       "    <tr>\n",
       "      <th>332</th>\n",
       "      <td>0.029631</td>\n",
       "      <td>0.450812</td>\n",
       "      <td>0.085161</td>\n",
       "      <td>0.254788</td>\n",
       "      <td>0.785794</td>\n",
       "    </tr>\n",
       "    <tr>\n",
       "      <th>333</th>\n",
       "      <td>0.747321</td>\n",
       "      <td>0.558879</td>\n",
       "      <td>0.072716</td>\n",
       "      <td>0.511503</td>\n",
       "      <td>0.366573</td>\n",
       "    </tr>\n",
       "  </tbody>\n",
       "</table>\n",
       "<p>334 rows × 5 columns</p>\n",
       "</div>"
      ],
      "text/plain": [
       "            0          1          2         3         4\n",
       "0    0.326001  67.000000  67.000000  0.913155  0.103338\n",
       "1    0.739126   0.146782   0.933030  0.910299  0.089911\n",
       "2    0.837405   0.329110   0.433011  0.296106  0.473252\n",
       "3    0.036361   0.784073   0.256466  0.654225  0.445484\n",
       "4    0.045914   0.537175   0.494367  0.963783  0.887703\n",
       "..        ...        ...        ...       ...       ...\n",
       "329  0.780272   0.234274   0.057274  0.364951  0.087924\n",
       "330  0.916470   0.978719   0.614011  0.585698  0.855150\n",
       "331  0.723955   0.915197   0.202361  0.771998  0.810760\n",
       "332  0.029631   0.450812   0.085161  0.254788  0.785794\n",
       "333  0.747321   0.558879   0.072716  0.511503  0.366573\n",
       "\n",
       "[334 rows x 5 columns]"
      ]
     },
     "execution_count": 505,
     "metadata": {},
     "output_type": "execute_result"
    }
   ],
   "source": [
    "df.iloc[0][2] = int(67)\n",
    "df"
   ]
  },
  {
   "cell_type": "code",
   "execution_count": 506,
   "id": "dd11e991",
   "metadata": {},
   "outputs": [
    {
     "data": {
      "text/html": [
       "<div>\n",
       "<style scoped>\n",
       "    .dataframe tbody tr th:only-of-type {\n",
       "        vertical-align: middle;\n",
       "    }\n",
       "\n",
       "    .dataframe tbody tr th {\n",
       "        vertical-align: top;\n",
       "    }\n",
       "\n",
       "    .dataframe thead th {\n",
       "        text-align: right;\n",
       "    }\n",
       "</style>\n",
       "<table border=\"1\" class=\"dataframe\">\n",
       "  <thead>\n",
       "    <tr style=\"text-align: right;\">\n",
       "      <th></th>\n",
       "      <th>A</th>\n",
       "      <th>B</th>\n",
       "      <th>C</th>\n",
       "      <th>D</th>\n",
       "      <th>E</th>\n",
       "    </tr>\n",
       "  </thead>\n",
       "  <tbody>\n",
       "    <tr>\n",
       "      <th>0</th>\n",
       "      <td>0.326001</td>\n",
       "      <td>67.000000</td>\n",
       "      <td>67.000000</td>\n",
       "      <td>0.913155</td>\n",
       "      <td>0.103338</td>\n",
       "    </tr>\n",
       "    <tr>\n",
       "      <th>1</th>\n",
       "      <td>0.739126</td>\n",
       "      <td>0.146782</td>\n",
       "      <td>0.933030</td>\n",
       "      <td>0.910299</td>\n",
       "      <td>0.089911</td>\n",
       "    </tr>\n",
       "    <tr>\n",
       "      <th>2</th>\n",
       "      <td>0.837405</td>\n",
       "      <td>0.329110</td>\n",
       "      <td>0.433011</td>\n",
       "      <td>0.296106</td>\n",
       "      <td>0.473252</td>\n",
       "    </tr>\n",
       "    <tr>\n",
       "      <th>3</th>\n",
       "      <td>0.036361</td>\n",
       "      <td>0.784073</td>\n",
       "      <td>0.256466</td>\n",
       "      <td>0.654225</td>\n",
       "      <td>0.445484</td>\n",
       "    </tr>\n",
       "    <tr>\n",
       "      <th>4</th>\n",
       "      <td>0.045914</td>\n",
       "      <td>0.537175</td>\n",
       "      <td>0.494367</td>\n",
       "      <td>0.963783</td>\n",
       "      <td>0.887703</td>\n",
       "    </tr>\n",
       "    <tr>\n",
       "      <th>...</th>\n",
       "      <td>...</td>\n",
       "      <td>...</td>\n",
       "      <td>...</td>\n",
       "      <td>...</td>\n",
       "      <td>...</td>\n",
       "    </tr>\n",
       "    <tr>\n",
       "      <th>329</th>\n",
       "      <td>0.780272</td>\n",
       "      <td>0.234274</td>\n",
       "      <td>0.057274</td>\n",
       "      <td>0.364951</td>\n",
       "      <td>0.087924</td>\n",
       "    </tr>\n",
       "    <tr>\n",
       "      <th>330</th>\n",
       "      <td>0.916470</td>\n",
       "      <td>0.978719</td>\n",
       "      <td>0.614011</td>\n",
       "      <td>0.585698</td>\n",
       "      <td>0.855150</td>\n",
       "    </tr>\n",
       "    <tr>\n",
       "      <th>331</th>\n",
       "      <td>0.723955</td>\n",
       "      <td>0.915197</td>\n",
       "      <td>0.202361</td>\n",
       "      <td>0.771998</td>\n",
       "      <td>0.810760</td>\n",
       "    </tr>\n",
       "    <tr>\n",
       "      <th>332</th>\n",
       "      <td>0.029631</td>\n",
       "      <td>0.450812</td>\n",
       "      <td>0.085161</td>\n",
       "      <td>0.254788</td>\n",
       "      <td>0.785794</td>\n",
       "    </tr>\n",
       "    <tr>\n",
       "      <th>333</th>\n",
       "      <td>0.747321</td>\n",
       "      <td>0.558879</td>\n",
       "      <td>0.072716</td>\n",
       "      <td>0.511503</td>\n",
       "      <td>0.366573</td>\n",
       "    </tr>\n",
       "  </tbody>\n",
       "</table>\n",
       "<p>334 rows × 5 columns</p>\n",
       "</div>"
      ],
      "text/plain": [
       "            A          B          C         D         E\n",
       "0    0.326001  67.000000  67.000000  0.913155  0.103338\n",
       "1    0.739126   0.146782   0.933030  0.910299  0.089911\n",
       "2    0.837405   0.329110   0.433011  0.296106  0.473252\n",
       "3    0.036361   0.784073   0.256466  0.654225  0.445484\n",
       "4    0.045914   0.537175   0.494367  0.963783  0.887703\n",
       "..        ...        ...        ...       ...       ...\n",
       "329  0.780272   0.234274   0.057274  0.364951  0.087924\n",
       "330  0.916470   0.978719   0.614011  0.585698  0.855150\n",
       "331  0.723955   0.915197   0.202361  0.771998  0.810760\n",
       "332  0.029631   0.450812   0.085161  0.254788  0.785794\n",
       "333  0.747321   0.558879   0.072716  0.511503  0.366573\n",
       "\n",
       "[334 rows x 5 columns]"
      ]
     },
     "execution_count": 506,
     "metadata": {},
     "output_type": "execute_result"
    }
   ],
   "source": [
    "df.columns = list(\"ABCDE\")\n",
    "df"
   ]
  },
  {
   "cell_type": "code",
   "execution_count": 507,
   "id": "f46bf491",
   "metadata": {},
   "outputs": [
    {
     "data": {
      "text/html": [
       "<div>\n",
       "<style scoped>\n",
       "    .dataframe tbody tr th:only-of-type {\n",
       "        vertical-align: middle;\n",
       "    }\n",
       "\n",
       "    .dataframe tbody tr th {\n",
       "        vertical-align: top;\n",
       "    }\n",
       "\n",
       "    .dataframe thead th {\n",
       "        text-align: right;\n",
       "    }\n",
       "</style>\n",
       "<table border=\"1\" class=\"dataframe\">\n",
       "  <thead>\n",
       "    <tr style=\"text-align: right;\">\n",
       "      <th></th>\n",
       "      <th>A</th>\n",
       "      <th>B</th>\n",
       "      <th>C</th>\n",
       "      <th>D</th>\n",
       "      <th>E</th>\n",
       "    </tr>\n",
       "  </thead>\n",
       "  <tbody>\n",
       "    <tr>\n",
       "      <th>0</th>\n",
       "      <td>0.326001</td>\n",
       "      <td>67.000000</td>\n",
       "      <td>67.000000</td>\n",
       "      <td>0.913155</td>\n",
       "      <td>0.103338</td>\n",
       "    </tr>\n",
       "    <tr>\n",
       "      <th>1</th>\n",
       "      <td>0.739126</td>\n",
       "      <td>0.146782</td>\n",
       "      <td>0.933030</td>\n",
       "      <td>0.910299</td>\n",
       "      <td>0.089911</td>\n",
       "    </tr>\n",
       "    <tr>\n",
       "      <th>2</th>\n",
       "      <td>0.837405</td>\n",
       "      <td>0.329110</td>\n",
       "      <td>0.433011</td>\n",
       "      <td>0.296106</td>\n",
       "      <td>0.473252</td>\n",
       "    </tr>\n",
       "    <tr>\n",
       "      <th>3</th>\n",
       "      <td>0.036361</td>\n",
       "      <td>0.784073</td>\n",
       "      <td>0.256466</td>\n",
       "      <td>0.654225</td>\n",
       "      <td>0.445484</td>\n",
       "    </tr>\n",
       "    <tr>\n",
       "      <th>4</th>\n",
       "      <td>0.045914</td>\n",
       "      <td>0.537175</td>\n",
       "      <td>0.494367</td>\n",
       "      <td>0.963783</td>\n",
       "      <td>88.000000</td>\n",
       "    </tr>\n",
       "    <tr>\n",
       "      <th>...</th>\n",
       "      <td>...</td>\n",
       "      <td>...</td>\n",
       "      <td>...</td>\n",
       "      <td>...</td>\n",
       "      <td>...</td>\n",
       "    </tr>\n",
       "    <tr>\n",
       "      <th>329</th>\n",
       "      <td>0.780272</td>\n",
       "      <td>0.234274</td>\n",
       "      <td>0.057274</td>\n",
       "      <td>0.364951</td>\n",
       "      <td>0.087924</td>\n",
       "    </tr>\n",
       "    <tr>\n",
       "      <th>330</th>\n",
       "      <td>0.916470</td>\n",
       "      <td>0.978719</td>\n",
       "      <td>0.614011</td>\n",
       "      <td>0.585698</td>\n",
       "      <td>0.855150</td>\n",
       "    </tr>\n",
       "    <tr>\n",
       "      <th>331</th>\n",
       "      <td>0.723955</td>\n",
       "      <td>0.915197</td>\n",
       "      <td>0.202361</td>\n",
       "      <td>0.771998</td>\n",
       "      <td>0.810760</td>\n",
       "    </tr>\n",
       "    <tr>\n",
       "      <th>332</th>\n",
       "      <td>0.029631</td>\n",
       "      <td>0.450812</td>\n",
       "      <td>0.085161</td>\n",
       "      <td>0.254788</td>\n",
       "      <td>0.785794</td>\n",
       "    </tr>\n",
       "    <tr>\n",
       "      <th>333</th>\n",
       "      <td>0.747321</td>\n",
       "      <td>0.558879</td>\n",
       "      <td>0.072716</td>\n",
       "      <td>0.511503</td>\n",
       "      <td>0.366573</td>\n",
       "    </tr>\n",
       "  </tbody>\n",
       "</table>\n",
       "<p>334 rows × 5 columns</p>\n",
       "</div>"
      ],
      "text/plain": [
       "            A          B          C         D          E\n",
       "0    0.326001  67.000000  67.000000  0.913155   0.103338\n",
       "1    0.739126   0.146782   0.933030  0.910299   0.089911\n",
       "2    0.837405   0.329110   0.433011  0.296106   0.473252\n",
       "3    0.036361   0.784073   0.256466  0.654225   0.445484\n",
       "4    0.045914   0.537175   0.494367  0.963783  88.000000\n",
       "..        ...        ...        ...       ...        ...\n",
       "329  0.780272   0.234274   0.057274  0.364951   0.087924\n",
       "330  0.916470   0.978719   0.614011  0.585698   0.855150\n",
       "331  0.723955   0.915197   0.202361  0.771998   0.810760\n",
       "332  0.029631   0.450812   0.085161  0.254788   0.785794\n",
       "333  0.747321   0.558879   0.072716  0.511503   0.366573\n",
       "\n",
       "[334 rows x 5 columns]"
      ]
     },
     "execution_count": 507,
     "metadata": {},
     "output_type": "execute_result"
    }
   ],
   "source": [
    "df.loc[4]['E'] = 88\n",
    "df"
   ]
  },
  {
   "cell_type": "code",
   "execution_count": 511,
   "id": "81520e6e",
   "metadata": {},
   "outputs": [
    {
     "data": {
      "text/html": [
       "<div>\n",
       "<style scoped>\n",
       "    .dataframe tbody tr th:only-of-type {\n",
       "        vertical-align: middle;\n",
       "    }\n",
       "\n",
       "    .dataframe tbody tr th {\n",
       "        vertical-align: top;\n",
       "    }\n",
       "\n",
       "    .dataframe thead th {\n",
       "        text-align: right;\n",
       "    }\n",
       "</style>\n",
       "<table border=\"1\" class=\"dataframe\">\n",
       "  <thead>\n",
       "    <tr style=\"text-align: right;\">\n",
       "      <th></th>\n",
       "      <th>A</th>\n",
       "      <th>B</th>\n",
       "      <th>C</th>\n",
       "      <th>D</th>\n",
       "      <th>E</th>\n",
       "      <th>F</th>\n",
       "    </tr>\n",
       "  </thead>\n",
       "  <tbody>\n",
       "    <tr>\n",
       "      <th>0</th>\n",
       "      <td>0.326001</td>\n",
       "      <td>67.000000</td>\n",
       "      <td>67.000000</td>\n",
       "      <td>0.913155</td>\n",
       "      <td>0.103338</td>\n",
       "      <td>0.5</td>\n",
       "    </tr>\n",
       "    <tr>\n",
       "      <th>1</th>\n",
       "      <td>0.739126</td>\n",
       "      <td>0.146782</td>\n",
       "      <td>0.933030</td>\n",
       "      <td>0.910299</td>\n",
       "      <td>0.089911</td>\n",
       "      <td>0.5</td>\n",
       "    </tr>\n",
       "    <tr>\n",
       "      <th>2</th>\n",
       "      <td>0.837405</td>\n",
       "      <td>0.329110</td>\n",
       "      <td>0.433011</td>\n",
       "      <td>0.296106</td>\n",
       "      <td>0.473252</td>\n",
       "      <td>0.5</td>\n",
       "    </tr>\n",
       "    <tr>\n",
       "      <th>3</th>\n",
       "      <td>0.036361</td>\n",
       "      <td>0.784073</td>\n",
       "      <td>0.256466</td>\n",
       "      <td>0.654225</td>\n",
       "      <td>0.445484</td>\n",
       "      <td>0.5</td>\n",
       "    </tr>\n",
       "    <tr>\n",
       "      <th>4</th>\n",
       "      <td>0.045914</td>\n",
       "      <td>0.537175</td>\n",
       "      <td>0.494367</td>\n",
       "      <td>0.963783</td>\n",
       "      <td>88.000000</td>\n",
       "      <td>0.5</td>\n",
       "    </tr>\n",
       "    <tr>\n",
       "      <th>...</th>\n",
       "      <td>...</td>\n",
       "      <td>...</td>\n",
       "      <td>...</td>\n",
       "      <td>...</td>\n",
       "      <td>...</td>\n",
       "      <td>...</td>\n",
       "    </tr>\n",
       "    <tr>\n",
       "      <th>329</th>\n",
       "      <td>0.780272</td>\n",
       "      <td>0.234274</td>\n",
       "      <td>0.057274</td>\n",
       "      <td>0.364951</td>\n",
       "      <td>0.087924</td>\n",
       "      <td>0.5</td>\n",
       "    </tr>\n",
       "    <tr>\n",
       "      <th>330</th>\n",
       "      <td>0.916470</td>\n",
       "      <td>0.978719</td>\n",
       "      <td>0.614011</td>\n",
       "      <td>0.585698</td>\n",
       "      <td>0.855150</td>\n",
       "      <td>0.5</td>\n",
       "    </tr>\n",
       "    <tr>\n",
       "      <th>331</th>\n",
       "      <td>0.723955</td>\n",
       "      <td>0.915197</td>\n",
       "      <td>0.202361</td>\n",
       "      <td>0.771998</td>\n",
       "      <td>0.810760</td>\n",
       "      <td>0.5</td>\n",
       "    </tr>\n",
       "    <tr>\n",
       "      <th>332</th>\n",
       "      <td>0.029631</td>\n",
       "      <td>0.450812</td>\n",
       "      <td>0.085161</td>\n",
       "      <td>0.254788</td>\n",
       "      <td>0.785794</td>\n",
       "      <td>0.5</td>\n",
       "    </tr>\n",
       "    <tr>\n",
       "      <th>333</th>\n",
       "      <td>0.747321</td>\n",
       "      <td>0.558879</td>\n",
       "      <td>0.072716</td>\n",
       "      <td>0.511503</td>\n",
       "      <td>0.366573</td>\n",
       "      <td>0.5</td>\n",
       "    </tr>\n",
       "  </tbody>\n",
       "</table>\n",
       "<p>334 rows × 6 columns</p>\n",
       "</div>"
      ],
      "text/plain": [
       "            A          B          C         D          E    F\n",
       "0    0.326001  67.000000  67.000000  0.913155   0.103338  0.5\n",
       "1    0.739126   0.146782   0.933030  0.910299   0.089911  0.5\n",
       "2    0.837405   0.329110   0.433011  0.296106   0.473252  0.5\n",
       "3    0.036361   0.784073   0.256466  0.654225   0.445484  0.5\n",
       "4    0.045914   0.537175   0.494367  0.963783  88.000000  0.5\n",
       "..        ...        ...        ...       ...        ...  ...\n",
       "329  0.780272   0.234274   0.057274  0.364951   0.087924  0.5\n",
       "330  0.916470   0.978719   0.614011  0.585698   0.855150  0.5\n",
       "331  0.723955   0.915197   0.202361  0.771998   0.810760  0.5\n",
       "332  0.029631   0.450812   0.085161  0.254788   0.785794  0.5\n",
       "333  0.747321   0.558879   0.072716  0.511503   0.366573  0.5\n",
       "\n",
       "[334 rows x 6 columns]"
      ]
     },
     "execution_count": 511,
     "metadata": {},
     "output_type": "execute_result"
    }
   ],
   "source": [
    "df.loc[:334,'F'] = 0.50 # Add new columns 'F' \n",
    "df"
   ]
  },
  {
   "cell_type": "code",
   "execution_count": 513,
   "id": "31320288",
   "metadata": {},
   "outputs": [
    {
     "name": "stderr",
     "output_type": "stream",
     "text": [
      "<ipython-input-513-7c393cc64d20>:1: FutureWarning: Slicing a positional slice with .loc is not supported, and will raise TypeError in a future version.  Use .loc with labels or .iloc with positions instead.\n",
      "  df.loc[334,:3] = 0.50 # Add new columns 'F'\n"
     ]
    },
    {
     "data": {
      "text/html": [
       "<div>\n",
       "<style scoped>\n",
       "    .dataframe tbody tr th:only-of-type {\n",
       "        vertical-align: middle;\n",
       "    }\n",
       "\n",
       "    .dataframe tbody tr th {\n",
       "        vertical-align: top;\n",
       "    }\n",
       "\n",
       "    .dataframe thead th {\n",
       "        text-align: right;\n",
       "    }\n",
       "</style>\n",
       "<table border=\"1\" class=\"dataframe\">\n",
       "  <thead>\n",
       "    <tr style=\"text-align: right;\">\n",
       "      <th></th>\n",
       "      <th>A</th>\n",
       "      <th>B</th>\n",
       "      <th>C</th>\n",
       "      <th>D</th>\n",
       "      <th>E</th>\n",
       "      <th>F</th>\n",
       "    </tr>\n",
       "  </thead>\n",
       "  <tbody>\n",
       "    <tr>\n",
       "      <th>0</th>\n",
       "      <td>0.326001</td>\n",
       "      <td>67.000000</td>\n",
       "      <td>67.000000</td>\n",
       "      <td>0.913155</td>\n",
       "      <td>0.103338</td>\n",
       "      <td>0.5</td>\n",
       "    </tr>\n",
       "    <tr>\n",
       "      <th>1</th>\n",
       "      <td>0.739126</td>\n",
       "      <td>0.146782</td>\n",
       "      <td>0.933030</td>\n",
       "      <td>0.910299</td>\n",
       "      <td>0.089911</td>\n",
       "      <td>0.5</td>\n",
       "    </tr>\n",
       "    <tr>\n",
       "      <th>2</th>\n",
       "      <td>0.837405</td>\n",
       "      <td>0.329110</td>\n",
       "      <td>0.433011</td>\n",
       "      <td>0.296106</td>\n",
       "      <td>0.473252</td>\n",
       "      <td>0.5</td>\n",
       "    </tr>\n",
       "    <tr>\n",
       "      <th>3</th>\n",
       "      <td>0.036361</td>\n",
       "      <td>0.784073</td>\n",
       "      <td>0.256466</td>\n",
       "      <td>0.654225</td>\n",
       "      <td>0.445484</td>\n",
       "      <td>0.5</td>\n",
       "    </tr>\n",
       "    <tr>\n",
       "      <th>4</th>\n",
       "      <td>0.045914</td>\n",
       "      <td>0.537175</td>\n",
       "      <td>0.494367</td>\n",
       "      <td>0.963783</td>\n",
       "      <td>88.000000</td>\n",
       "      <td>0.5</td>\n",
       "    </tr>\n",
       "    <tr>\n",
       "      <th>...</th>\n",
       "      <td>...</td>\n",
       "      <td>...</td>\n",
       "      <td>...</td>\n",
       "      <td>...</td>\n",
       "      <td>...</td>\n",
       "      <td>...</td>\n",
       "    </tr>\n",
       "    <tr>\n",
       "      <th>331</th>\n",
       "      <td>0.723955</td>\n",
       "      <td>0.915197</td>\n",
       "      <td>0.202361</td>\n",
       "      <td>0.771998</td>\n",
       "      <td>0.810760</td>\n",
       "      <td>0.5</td>\n",
       "    </tr>\n",
       "    <tr>\n",
       "      <th>332</th>\n",
       "      <td>0.029631</td>\n",
       "      <td>0.450812</td>\n",
       "      <td>0.085161</td>\n",
       "      <td>0.254788</td>\n",
       "      <td>0.785794</td>\n",
       "      <td>0.5</td>\n",
       "    </tr>\n",
       "    <tr>\n",
       "      <th>333</th>\n",
       "      <td>0.747321</td>\n",
       "      <td>0.558879</td>\n",
       "      <td>0.072716</td>\n",
       "      <td>0.511503</td>\n",
       "      <td>0.366573</td>\n",
       "      <td>0.5</td>\n",
       "    </tr>\n",
       "    <tr>\n",
       "      <th>G</th>\n",
       "      <td>0.500000</td>\n",
       "      <td>0.500000</td>\n",
       "      <td>0.500000</td>\n",
       "      <td>NaN</td>\n",
       "      <td>NaN</td>\n",
       "      <td>NaN</td>\n",
       "    </tr>\n",
       "    <tr>\n",
       "      <th>334</th>\n",
       "      <td>0.500000</td>\n",
       "      <td>0.500000</td>\n",
       "      <td>0.500000</td>\n",
       "      <td>NaN</td>\n",
       "      <td>NaN</td>\n",
       "      <td>NaN</td>\n",
       "    </tr>\n",
       "  </tbody>\n",
       "</table>\n",
       "<p>336 rows × 6 columns</p>\n",
       "</div>"
      ],
      "text/plain": [
       "            A          B          C         D          E    F\n",
       "0    0.326001  67.000000  67.000000  0.913155   0.103338  0.5\n",
       "1    0.739126   0.146782   0.933030  0.910299   0.089911  0.5\n",
       "2    0.837405   0.329110   0.433011  0.296106   0.473252  0.5\n",
       "3    0.036361   0.784073   0.256466  0.654225   0.445484  0.5\n",
       "4    0.045914   0.537175   0.494367  0.963783  88.000000  0.5\n",
       "..        ...        ...        ...       ...        ...  ...\n",
       "331  0.723955   0.915197   0.202361  0.771998   0.810760  0.5\n",
       "332  0.029631   0.450812   0.085161  0.254788   0.785794  0.5\n",
       "333  0.747321   0.558879   0.072716  0.511503   0.366573  0.5\n",
       "G    0.500000   0.500000   0.500000       NaN        NaN  NaN\n",
       "334  0.500000   0.500000   0.500000       NaN        NaN  NaN\n",
       "\n",
       "[336 rows x 6 columns]"
      ]
     },
     "execution_count": 513,
     "metadata": {},
     "output_type": "execute_result"
    }
   ],
   "source": [
    "df.loc[334,:3] = 0.50 # Add new Row 'G' \n",
    "df"
   ]
  },
  {
   "cell_type": "code",
   "execution_count": 515,
   "id": "f5c7dbb3",
   "metadata": {},
   "outputs": [
    {
     "data": {
      "text/html": [
       "<div>\n",
       "<style scoped>\n",
       "    .dataframe tbody tr th:only-of-type {\n",
       "        vertical-align: middle;\n",
       "    }\n",
       "\n",
       "    .dataframe tbody tr th {\n",
       "        vertical-align: top;\n",
       "    }\n",
       "\n",
       "    .dataframe thead th {\n",
       "        text-align: right;\n",
       "    }\n",
       "</style>\n",
       "<table border=\"1\" class=\"dataframe\">\n",
       "  <thead>\n",
       "    <tr style=\"text-align: right;\">\n",
       "      <th></th>\n",
       "      <th>A</th>\n",
       "      <th>B</th>\n",
       "      <th>C</th>\n",
       "      <th>D</th>\n",
       "      <th>E</th>\n",
       "      <th>F</th>\n",
       "    </tr>\n",
       "  </thead>\n",
       "  <tbody>\n",
       "    <tr>\n",
       "      <th>0</th>\n",
       "      <td>0.326001</td>\n",
       "      <td>67.000000</td>\n",
       "      <td>67.000000</td>\n",
       "      <td>0.913155</td>\n",
       "      <td>0.103338</td>\n",
       "      <td>0.5</td>\n",
       "    </tr>\n",
       "    <tr>\n",
       "      <th>1</th>\n",
       "      <td>0.739126</td>\n",
       "      <td>0.146782</td>\n",
       "      <td>0.933030</td>\n",
       "      <td>0.910299</td>\n",
       "      <td>0.089911</td>\n",
       "      <td>0.5</td>\n",
       "    </tr>\n",
       "    <tr>\n",
       "      <th>2</th>\n",
       "      <td>0.837405</td>\n",
       "      <td>0.329110</td>\n",
       "      <td>0.433011</td>\n",
       "      <td>0.296106</td>\n",
       "      <td>0.473252</td>\n",
       "      <td>0.5</td>\n",
       "    </tr>\n",
       "    <tr>\n",
       "      <th>3</th>\n",
       "      <td>0.036361</td>\n",
       "      <td>0.784073</td>\n",
       "      <td>0.256466</td>\n",
       "      <td>0.654225</td>\n",
       "      <td>0.445484</td>\n",
       "      <td>0.5</td>\n",
       "    </tr>\n",
       "    <tr>\n",
       "      <th>4</th>\n",
       "      <td>0.045914</td>\n",
       "      <td>0.537175</td>\n",
       "      <td>0.494367</td>\n",
       "      <td>0.963783</td>\n",
       "      <td>88.000000</td>\n",
       "      <td>0.5</td>\n",
       "    </tr>\n",
       "    <tr>\n",
       "      <th>...</th>\n",
       "      <td>...</td>\n",
       "      <td>...</td>\n",
       "      <td>...</td>\n",
       "      <td>...</td>\n",
       "      <td>...</td>\n",
       "      <td>...</td>\n",
       "    </tr>\n",
       "    <tr>\n",
       "      <th>329</th>\n",
       "      <td>0.780272</td>\n",
       "      <td>0.234274</td>\n",
       "      <td>0.057274</td>\n",
       "      <td>0.364951</td>\n",
       "      <td>0.087924</td>\n",
       "      <td>0.5</td>\n",
       "    </tr>\n",
       "    <tr>\n",
       "      <th>330</th>\n",
       "      <td>0.916470</td>\n",
       "      <td>0.978719</td>\n",
       "      <td>0.614011</td>\n",
       "      <td>0.585698</td>\n",
       "      <td>0.855150</td>\n",
       "      <td>0.5</td>\n",
       "    </tr>\n",
       "    <tr>\n",
       "      <th>331</th>\n",
       "      <td>0.723955</td>\n",
       "      <td>0.915197</td>\n",
       "      <td>0.202361</td>\n",
       "      <td>0.771998</td>\n",
       "      <td>0.810760</td>\n",
       "      <td>0.5</td>\n",
       "    </tr>\n",
       "    <tr>\n",
       "      <th>332</th>\n",
       "      <td>0.029631</td>\n",
       "      <td>0.450812</td>\n",
       "      <td>0.085161</td>\n",
       "      <td>0.254788</td>\n",
       "      <td>0.785794</td>\n",
       "      <td>0.5</td>\n",
       "    </tr>\n",
       "    <tr>\n",
       "      <th>333</th>\n",
       "      <td>0.747321</td>\n",
       "      <td>0.558879</td>\n",
       "      <td>0.072716</td>\n",
       "      <td>0.511503</td>\n",
       "      <td>0.366573</td>\n",
       "      <td>0.5</td>\n",
       "    </tr>\n",
       "  </tbody>\n",
       "</table>\n",
       "<p>334 rows × 6 columns</p>\n",
       "</div>"
      ],
      "text/plain": [
       "            A          B          C         D          E    F\n",
       "0    0.326001  67.000000  67.000000  0.913155   0.103338  0.5\n",
       "1    0.739126   0.146782   0.933030  0.910299   0.089911  0.5\n",
       "2    0.837405   0.329110   0.433011  0.296106   0.473252  0.5\n",
       "3    0.036361   0.784073   0.256466  0.654225   0.445484  0.5\n",
       "4    0.045914   0.537175   0.494367  0.963783  88.000000  0.5\n",
       "..        ...        ...        ...       ...        ...  ...\n",
       "329  0.780272   0.234274   0.057274  0.364951   0.087924  0.5\n",
       "330  0.916470   0.978719   0.614011  0.585698   0.855150  0.5\n",
       "331  0.723955   0.915197   0.202361  0.771998   0.810760  0.5\n",
       "332  0.029631   0.450812   0.085161  0.254788   0.785794  0.5\n",
       "333  0.747321   0.558879   0.072716  0.511503   0.366573  0.5\n",
       "\n",
       "[334 rows x 6 columns]"
      ]
     },
     "execution_count": 515,
     "metadata": {},
     "output_type": "execute_result"
    }
   ],
   "source": [
    "df.dropna()"
   ]
  },
  {
   "cell_type": "code",
   "execution_count": 532,
   "id": "4ea9a8c8",
   "metadata": {},
   "outputs": [
    {
     "data": {
      "text/html": [
       "<div>\n",
       "<style scoped>\n",
       "    .dataframe tbody tr th:only-of-type {\n",
       "        vertical-align: middle;\n",
       "    }\n",
       "\n",
       "    .dataframe tbody tr th {\n",
       "        vertical-align: top;\n",
       "    }\n",
       "\n",
       "    .dataframe thead th {\n",
       "        text-align: right;\n",
       "    }\n",
       "</style>\n",
       "<table border=\"1\" class=\"dataframe\">\n",
       "  <thead>\n",
       "    <tr style=\"text-align: right;\">\n",
       "      <th></th>\n",
       "      <th>A</th>\n",
       "      <th>B</th>\n",
       "      <th>C</th>\n",
       "      <th>D</th>\n",
       "      <th>E</th>\n",
       "      <th>F</th>\n",
       "    </tr>\n",
       "  </thead>\n",
       "  <tbody>\n",
       "    <tr>\n",
       "      <th>0</th>\n",
       "      <td>0.326001</td>\n",
       "      <td>67.000000</td>\n",
       "      <td>67.000000</td>\n",
       "      <td>0.913155</td>\n",
       "      <td>0.103338</td>\n",
       "      <td>0.5</td>\n",
       "    </tr>\n",
       "    <tr>\n",
       "      <th>1</th>\n",
       "      <td>0.739126</td>\n",
       "      <td>0.146782</td>\n",
       "      <td>0.933030</td>\n",
       "      <td>0.910299</td>\n",
       "      <td>0.089911</td>\n",
       "      <td>0.5</td>\n",
       "    </tr>\n",
       "    <tr>\n",
       "      <th>2</th>\n",
       "      <td>0.837405</td>\n",
       "      <td>0.329110</td>\n",
       "      <td>0.433011</td>\n",
       "      <td>0.296106</td>\n",
       "      <td>0.473252</td>\n",
       "      <td>0.5</td>\n",
       "    </tr>\n",
       "    <tr>\n",
       "      <th>3</th>\n",
       "      <td>0.036361</td>\n",
       "      <td>0.784073</td>\n",
       "      <td>0.256466</td>\n",
       "      <td>0.654225</td>\n",
       "      <td>0.445484</td>\n",
       "      <td>0.5</td>\n",
       "    </tr>\n",
       "    <tr>\n",
       "      <th>4</th>\n",
       "      <td>0.045914</td>\n",
       "      <td>0.537175</td>\n",
       "      <td>0.494367</td>\n",
       "      <td>0.963783</td>\n",
       "      <td>88.000000</td>\n",
       "      <td>0.5</td>\n",
       "    </tr>\n",
       "  </tbody>\n",
       "</table>\n",
       "</div>"
      ],
      "text/plain": [
       "          A          B          C         D          E    F\n",
       "0  0.326001  67.000000  67.000000  0.913155   0.103338  0.5\n",
       "1  0.739126   0.146782   0.933030  0.910299   0.089911  0.5\n",
       "2  0.837405   0.329110   0.433011  0.296106   0.473252  0.5\n",
       "3  0.036361   0.784073   0.256466  0.654225   0.445484  0.5\n",
       "4  0.045914   0.537175   0.494367  0.963783  88.000000  0.5"
      ]
     },
     "execution_count": 532,
     "metadata": {},
     "output_type": "execute_result"
    }
   ],
   "source": [
    "df.iloc[:5,:]"
   ]
  },
  {
   "cell_type": "code",
   "execution_count": 550,
   "id": "ce675119",
   "metadata": {},
   "outputs": [
    {
     "data": {
      "text/html": [
       "<div>\n",
       "<style scoped>\n",
       "    .dataframe tbody tr th:only-of-type {\n",
       "        vertical-align: middle;\n",
       "    }\n",
       "\n",
       "    .dataframe tbody tr th {\n",
       "        vertical-align: top;\n",
       "    }\n",
       "\n",
       "    .dataframe thead th {\n",
       "        text-align: right;\n",
       "    }\n",
       "</style>\n",
       "<table border=\"1\" class=\"dataframe\">\n",
       "  <thead>\n",
       "    <tr style=\"text-align: right;\">\n",
       "      <th></th>\n",
       "      <th>A</th>\n",
       "      <th>B</th>\n",
       "      <th>C</th>\n",
       "      <th>D</th>\n",
       "      <th>E</th>\n",
       "      <th>F</th>\n",
       "      <th>G</th>\n",
       "    </tr>\n",
       "  </thead>\n",
       "  <tbody>\n",
       "    <tr>\n",
       "      <th>0</th>\n",
       "      <td>0.326001</td>\n",
       "      <td>67.000000</td>\n",
       "      <td>67.000000</td>\n",
       "      <td>0.913155</td>\n",
       "      <td>0.103338</td>\n",
       "      <td>0.5</td>\n",
       "      <td>0.9</td>\n",
       "    </tr>\n",
       "    <tr>\n",
       "      <th>1</th>\n",
       "      <td>0.739126</td>\n",
       "      <td>0.146782</td>\n",
       "      <td>0.933030</td>\n",
       "      <td>0.910299</td>\n",
       "      <td>0.089911</td>\n",
       "      <td>0.5</td>\n",
       "      <td>0.9</td>\n",
       "    </tr>\n",
       "    <tr>\n",
       "      <th>2</th>\n",
       "      <td>0.837405</td>\n",
       "      <td>0.329110</td>\n",
       "      <td>0.433011</td>\n",
       "      <td>0.296106</td>\n",
       "      <td>0.473252</td>\n",
       "      <td>0.5</td>\n",
       "      <td>0.9</td>\n",
       "    </tr>\n",
       "    <tr>\n",
       "      <th>3</th>\n",
       "      <td>0.036361</td>\n",
       "      <td>0.784073</td>\n",
       "      <td>0.256466</td>\n",
       "      <td>0.654225</td>\n",
       "      <td>0.445484</td>\n",
       "      <td>0.5</td>\n",
       "      <td>0.9</td>\n",
       "    </tr>\n",
       "    <tr>\n",
       "      <th>4</th>\n",
       "      <td>0.045914</td>\n",
       "      <td>0.537175</td>\n",
       "      <td>0.494367</td>\n",
       "      <td>0.963783</td>\n",
       "      <td>88.000000</td>\n",
       "      <td>0.5</td>\n",
       "      <td>0.9</td>\n",
       "    </tr>\n",
       "  </tbody>\n",
       "</table>\n",
       "</div>"
      ],
      "text/plain": [
       "          A          B          C         D          E    F    G\n",
       "0  0.326001  67.000000  67.000000  0.913155   0.103338  0.5  0.9\n",
       "1  0.739126   0.146782   0.933030  0.910299   0.089911  0.5  0.9\n",
       "2  0.837405   0.329110   0.433011  0.296106   0.473252  0.5  0.9\n",
       "3  0.036361   0.784073   0.256466  0.654225   0.445484  0.5  0.9\n",
       "4  0.045914   0.537175   0.494367  0.963783  88.000000  0.5  0.9"
      ]
     },
     "execution_count": 550,
     "metadata": {},
     "output_type": "execute_result"
    }
   ],
   "source": [
    "df.loc[:4,\"G\"] = 0.9\n",
    "df"
   ]
  },
  {
   "cell_type": "code",
   "execution_count": 549,
   "id": "d74c3c23",
   "metadata": {},
   "outputs": [
    {
     "data": {
      "text/html": [
       "<div>\n",
       "<style scoped>\n",
       "    .dataframe tbody tr th:only-of-type {\n",
       "        vertical-align: middle;\n",
       "    }\n",
       "\n",
       "    .dataframe tbody tr th {\n",
       "        vertical-align: top;\n",
       "    }\n",
       "\n",
       "    .dataframe thead th {\n",
       "        text-align: right;\n",
       "    }\n",
       "</style>\n",
       "<table border=\"1\" class=\"dataframe\">\n",
       "  <thead>\n",
       "    <tr style=\"text-align: right;\">\n",
       "      <th></th>\n",
       "      <th>A</th>\n",
       "      <th>B</th>\n",
       "      <th>C</th>\n",
       "      <th>D</th>\n",
       "      <th>E</th>\n",
       "      <th>F</th>\n",
       "      <th>G</th>\n",
       "    </tr>\n",
       "  </thead>\n",
       "  <tbody>\n",
       "    <tr>\n",
       "      <th>0</th>\n",
       "      <td>0.326001</td>\n",
       "      <td>67.000000</td>\n",
       "      <td>67.000000</td>\n",
       "      <td>0.913155</td>\n",
       "      <td>0.103338</td>\n",
       "      <td>0.5</td>\n",
       "      <td>0.9</td>\n",
       "    </tr>\n",
       "    <tr>\n",
       "      <th>1</th>\n",
       "      <td>0.739126</td>\n",
       "      <td>0.146782</td>\n",
       "      <td>0.933030</td>\n",
       "      <td>0.910299</td>\n",
       "      <td>0.089911</td>\n",
       "      <td>0.5</td>\n",
       "      <td>0.9</td>\n",
       "    </tr>\n",
       "    <tr>\n",
       "      <th>2</th>\n",
       "      <td>0.837405</td>\n",
       "      <td>0.329110</td>\n",
       "      <td>0.433011</td>\n",
       "      <td>0.296106</td>\n",
       "      <td>0.473252</td>\n",
       "      <td>0.5</td>\n",
       "      <td>0.9</td>\n",
       "    </tr>\n",
       "    <tr>\n",
       "      <th>3</th>\n",
       "      <td>0.036361</td>\n",
       "      <td>0.784073</td>\n",
       "      <td>0.256466</td>\n",
       "      <td>0.654225</td>\n",
       "      <td>0.445484</td>\n",
       "      <td>0.5</td>\n",
       "      <td>0.9</td>\n",
       "    </tr>\n",
       "    <tr>\n",
       "      <th>4</th>\n",
       "      <td>0.045914</td>\n",
       "      <td>0.537175</td>\n",
       "      <td>0.494367</td>\n",
       "      <td>0.963783</td>\n",
       "      <td>88.000000</td>\n",
       "      <td>0.5</td>\n",
       "      <td>0.9</td>\n",
       "    </tr>\n",
       "  </tbody>\n",
       "</table>\n",
       "</div>"
      ],
      "text/plain": [
       "          A          B          C         D          E    F    G\n",
       "0  0.326001  67.000000  67.000000  0.913155   0.103338  0.5  0.9\n",
       "1  0.739126   0.146782   0.933030  0.910299   0.089911  0.5  0.9\n",
       "2  0.837405   0.329110   0.433011  0.296106   0.473252  0.5  0.9\n",
       "3  0.036361   0.784073   0.256466  0.654225   0.445484  0.5  0.9\n",
       "4  0.045914   0.537175   0.494367  0.963783  88.000000  0.5  0.9"
      ]
     },
     "execution_count": 549,
     "metadata": {},
     "output_type": "execute_result"
    }
   ],
   "source": [
    "df.fillna(0.8888)\n",
    "df"
   ]
  },
  {
   "cell_type": "code",
   "execution_count": 544,
   "id": "a68783bb",
   "metadata": {},
   "outputs": [
    {
     "data": {
      "text/html": [
       "<div>\n",
       "<style scoped>\n",
       "    .dataframe tbody tr th:only-of-type {\n",
       "        vertical-align: middle;\n",
       "    }\n",
       "\n",
       "    .dataframe tbody tr th {\n",
       "        vertical-align: top;\n",
       "    }\n",
       "\n",
       "    .dataframe thead th {\n",
       "        text-align: right;\n",
       "    }\n",
       "</style>\n",
       "<table border=\"1\" class=\"dataframe\">\n",
       "  <thead>\n",
       "    <tr style=\"text-align: right;\">\n",
       "      <th></th>\n",
       "      <th>A</th>\n",
       "      <th>B</th>\n",
       "      <th>C</th>\n",
       "      <th>D</th>\n",
       "      <th>E</th>\n",
       "      <th>F</th>\n",
       "      <th>G</th>\n",
       "    </tr>\n",
       "  </thead>\n",
       "  <tbody>\n",
       "    <tr>\n",
       "      <th>0</th>\n",
       "      <td>0.326001</td>\n",
       "      <td>67.000000</td>\n",
       "      <td>67.000000</td>\n",
       "      <td>0.913155</td>\n",
       "      <td>0.103338</td>\n",
       "      <td>0.5</td>\n",
       "      <td>0.9</td>\n",
       "    </tr>\n",
       "    <tr>\n",
       "      <th>1</th>\n",
       "      <td>0.739126</td>\n",
       "      <td>0.146782</td>\n",
       "      <td>0.933030</td>\n",
       "      <td>0.910299</td>\n",
       "      <td>0.089911</td>\n",
       "      <td>0.5</td>\n",
       "      <td>0.9</td>\n",
       "    </tr>\n",
       "    <tr>\n",
       "      <th>2</th>\n",
       "      <td>0.837405</td>\n",
       "      <td>0.329110</td>\n",
       "      <td>0.433011</td>\n",
       "      <td>0.296106</td>\n",
       "      <td>0.473252</td>\n",
       "      <td>0.5</td>\n",
       "      <td>0.9</td>\n",
       "    </tr>\n",
       "    <tr>\n",
       "      <th>3</th>\n",
       "      <td>0.036361</td>\n",
       "      <td>0.784073</td>\n",
       "      <td>0.256466</td>\n",
       "      <td>0.654225</td>\n",
       "      <td>0.445484</td>\n",
       "      <td>0.5</td>\n",
       "      <td>0.9</td>\n",
       "    </tr>\n",
       "    <tr>\n",
       "      <th>4</th>\n",
       "      <td>0.045914</td>\n",
       "      <td>0.537175</td>\n",
       "      <td>0.494367</td>\n",
       "      <td>0.963783</td>\n",
       "      <td>88.000000</td>\n",
       "      <td>0.5</td>\n",
       "      <td>0.9</td>\n",
       "    </tr>\n",
       "  </tbody>\n",
       "</table>\n",
       "</div>"
      ],
      "text/plain": [
       "          A          B          C         D          E    F    G\n",
       "0  0.326001  67.000000  67.000000  0.913155   0.103338  0.5  0.9\n",
       "1  0.739126   0.146782   0.933030  0.910299   0.089911  0.5  0.9\n",
       "2  0.837405   0.329110   0.433011  0.296106   0.473252  0.5  0.9\n",
       "3  0.036361   0.784073   0.256466  0.654225   0.445484  0.5  0.9\n",
       "4  0.045914   0.537175   0.494367  0.963783  88.000000  0.5  0.9"
      ]
     },
     "execution_count": 544,
     "metadata": {},
     "output_type": "execute_result"
    }
   ],
   "source": [
    "df.dropna(inplace = True)\n",
    "df"
   ]
  },
  {
   "cell_type": "code",
   "execution_count": 552,
   "id": "e8d8cb53",
   "metadata": {},
   "outputs": [
    {
     "data": {
      "text/html": [
       "<div>\n",
       "<style scoped>\n",
       "    .dataframe tbody tr th:only-of-type {\n",
       "        vertical-align: middle;\n",
       "    }\n",
       "\n",
       "    .dataframe tbody tr th {\n",
       "        vertical-align: top;\n",
       "    }\n",
       "\n",
       "    .dataframe thead th {\n",
       "        text-align: right;\n",
       "    }\n",
       "</style>\n",
       "<table border=\"1\" class=\"dataframe\">\n",
       "  <thead>\n",
       "    <tr style=\"text-align: right;\">\n",
       "      <th></th>\n",
       "      <th>A</th>\n",
       "      <th>B</th>\n",
       "      <th>C</th>\n",
       "      <th>D</th>\n",
       "      <th>E</th>\n",
       "      <th>F</th>\n",
       "      <th>G</th>\n",
       "      <th>H</th>\n",
       "    </tr>\n",
       "  </thead>\n",
       "  <tbody>\n",
       "    <tr>\n",
       "      <th>0</th>\n",
       "      <td>0.326001</td>\n",
       "      <td>67.000000</td>\n",
       "      <td>67.000000</td>\n",
       "      <td>0.913155</td>\n",
       "      <td>0.103338</td>\n",
       "      <td>0.5</td>\n",
       "      <td>0.9</td>\n",
       "      <td>NaN</td>\n",
       "    </tr>\n",
       "    <tr>\n",
       "      <th>1</th>\n",
       "      <td>0.739126</td>\n",
       "      <td>0.146782</td>\n",
       "      <td>0.933030</td>\n",
       "      <td>0.910299</td>\n",
       "      <td>0.089911</td>\n",
       "      <td>0.5</td>\n",
       "      <td>0.9</td>\n",
       "      <td>NaN</td>\n",
       "    </tr>\n",
       "    <tr>\n",
       "      <th>2</th>\n",
       "      <td>0.837405</td>\n",
       "      <td>0.329110</td>\n",
       "      <td>0.433011</td>\n",
       "      <td>0.296106</td>\n",
       "      <td>0.473252</td>\n",
       "      <td>0.5</td>\n",
       "      <td>0.9</td>\n",
       "      <td>0.666</td>\n",
       "    </tr>\n",
       "    <tr>\n",
       "      <th>3</th>\n",
       "      <td>0.036361</td>\n",
       "      <td>0.784073</td>\n",
       "      <td>0.256466</td>\n",
       "      <td>0.654225</td>\n",
       "      <td>0.445484</td>\n",
       "      <td>0.5</td>\n",
       "      <td>0.9</td>\n",
       "      <td>0.666</td>\n",
       "    </tr>\n",
       "    <tr>\n",
       "      <th>4</th>\n",
       "      <td>0.045914</td>\n",
       "      <td>0.537175</td>\n",
       "      <td>0.494367</td>\n",
       "      <td>0.963783</td>\n",
       "      <td>88.000000</td>\n",
       "      <td>0.5</td>\n",
       "      <td>0.9</td>\n",
       "      <td>0.666</td>\n",
       "    </tr>\n",
       "  </tbody>\n",
       "</table>\n",
       "</div>"
      ],
      "text/plain": [
       "          A          B          C         D          E    F    G      H\n",
       "0  0.326001  67.000000  67.000000  0.913155   0.103338  0.5  0.9    NaN\n",
       "1  0.739126   0.146782   0.933030  0.910299   0.089911  0.5  0.9    NaN\n",
       "2  0.837405   0.329110   0.433011  0.296106   0.473252  0.5  0.9  0.666\n",
       "3  0.036361   0.784073   0.256466  0.654225   0.445484  0.5  0.9  0.666\n",
       "4  0.045914   0.537175   0.494367  0.963783  88.000000  0.5  0.9  0.666"
      ]
     },
     "execution_count": 552,
     "metadata": {},
     "output_type": "execute_result"
    }
   ],
   "source": [
    "df.loc[2:,\"H\"] = 0.666\n",
    "df"
   ]
  },
  {
   "cell_type": "code",
   "execution_count": 554,
   "id": "e1c7d16a",
   "metadata": {},
   "outputs": [
    {
     "data": {
      "text/html": [
       "<div>\n",
       "<style scoped>\n",
       "    .dataframe tbody tr th:only-of-type {\n",
       "        vertical-align: middle;\n",
       "    }\n",
       "\n",
       "    .dataframe tbody tr th {\n",
       "        vertical-align: top;\n",
       "    }\n",
       "\n",
       "    .dataframe thead th {\n",
       "        text-align: right;\n",
       "    }\n",
       "</style>\n",
       "<table border=\"1\" class=\"dataframe\">\n",
       "  <thead>\n",
       "    <tr style=\"text-align: right;\">\n",
       "      <th></th>\n",
       "      <th>A</th>\n",
       "      <th>B</th>\n",
       "      <th>C</th>\n",
       "      <th>D</th>\n",
       "      <th>E</th>\n",
       "      <th>F</th>\n",
       "      <th>G</th>\n",
       "      <th>H</th>\n",
       "    </tr>\n",
       "  </thead>\n",
       "  <tbody>\n",
       "    <tr>\n",
       "      <th>0</th>\n",
       "      <td>0.326001</td>\n",
       "      <td>67.000000</td>\n",
       "      <td>67.000000</td>\n",
       "      <td>0.913155</td>\n",
       "      <td>0.103338</td>\n",
       "      <td>0.5</td>\n",
       "      <td>0.9</td>\n",
       "      <td>130.000</td>\n",
       "    </tr>\n",
       "    <tr>\n",
       "      <th>1</th>\n",
       "      <td>0.739126</td>\n",
       "      <td>0.146782</td>\n",
       "      <td>0.933030</td>\n",
       "      <td>0.910299</td>\n",
       "      <td>0.089911</td>\n",
       "      <td>0.5</td>\n",
       "      <td>0.9</td>\n",
       "      <td>130.000</td>\n",
       "    </tr>\n",
       "    <tr>\n",
       "      <th>2</th>\n",
       "      <td>0.837405</td>\n",
       "      <td>0.329110</td>\n",
       "      <td>0.433011</td>\n",
       "      <td>0.296106</td>\n",
       "      <td>0.473252</td>\n",
       "      <td>0.5</td>\n",
       "      <td>0.9</td>\n",
       "      <td>0.666</td>\n",
       "    </tr>\n",
       "    <tr>\n",
       "      <th>3</th>\n",
       "      <td>0.036361</td>\n",
       "      <td>0.784073</td>\n",
       "      <td>0.256466</td>\n",
       "      <td>0.654225</td>\n",
       "      <td>0.445484</td>\n",
       "      <td>0.5</td>\n",
       "      <td>0.9</td>\n",
       "      <td>0.666</td>\n",
       "    </tr>\n",
       "    <tr>\n",
       "      <th>4</th>\n",
       "      <td>0.045914</td>\n",
       "      <td>0.537175</td>\n",
       "      <td>0.494367</td>\n",
       "      <td>0.963783</td>\n",
       "      <td>88.000000</td>\n",
       "      <td>0.5</td>\n",
       "      <td>0.9</td>\n",
       "      <td>0.666</td>\n",
       "    </tr>\n",
       "  </tbody>\n",
       "</table>\n",
       "</div>"
      ],
      "text/plain": [
       "          A          B          C         D          E    F    G        H\n",
       "0  0.326001  67.000000  67.000000  0.913155   0.103338  0.5  0.9  130.000\n",
       "1  0.739126   0.146782   0.933030  0.910299   0.089911  0.5  0.9  130.000\n",
       "2  0.837405   0.329110   0.433011  0.296106   0.473252  0.5  0.9    0.666\n",
       "3  0.036361   0.784073   0.256466  0.654225   0.445484  0.5  0.9    0.666\n",
       "4  0.045914   0.537175   0.494367  0.963783  88.000000  0.5  0.9    0.666"
      ]
     },
     "execution_count": 554,
     "metadata": {},
     "output_type": "execute_result"
    }
   ],
   "source": [
    "df[\"H\"].fillna(130, inplace = True)\n",
    "df"
   ]
  },
  {
   "cell_type": "code",
   "execution_count": 569,
   "id": "e9927161",
   "metadata": {},
   "outputs": [
    {
     "data": {
      "text/html": [
       "<div>\n",
       "<style scoped>\n",
       "    .dataframe tbody tr th:only-of-type {\n",
       "        vertical-align: middle;\n",
       "    }\n",
       "\n",
       "    .dataframe tbody tr th {\n",
       "        vertical-align: top;\n",
       "    }\n",
       "\n",
       "    .dataframe thead th {\n",
       "        text-align: right;\n",
       "    }\n",
       "</style>\n",
       "<table border=\"1\" class=\"dataframe\">\n",
       "  <thead>\n",
       "    <tr style=\"text-align: right;\">\n",
       "      <th></th>\n",
       "      <th>A</th>\n",
       "      <th>B</th>\n",
       "      <th>C</th>\n",
       "      <th>D</th>\n",
       "      <th>E</th>\n",
       "      <th>F</th>\n",
       "      <th>G</th>\n",
       "      <th>H</th>\n",
       "    </tr>\n",
       "  </thead>\n",
       "  <tbody>\n",
       "    <tr>\n",
       "      <th>0</th>\n",
       "      <td>0.326001</td>\n",
       "      <td>67.000000</td>\n",
       "      <td>67.000000</td>\n",
       "      <td>0.913155</td>\n",
       "      <td>0.103338</td>\n",
       "      <td>0.5</td>\n",
       "      <td>0.9</td>\n",
       "      <td>Nan</td>\n",
       "    </tr>\n",
       "    <tr>\n",
       "      <th>1</th>\n",
       "      <td>0.739126</td>\n",
       "      <td>0.146782</td>\n",
       "      <td>0.933030</td>\n",
       "      <td>0.910299</td>\n",
       "      <td>0.089911</td>\n",
       "      <td>0.5</td>\n",
       "      <td>0.9</td>\n",
       "      <td>Nan</td>\n",
       "    </tr>\n",
       "    <tr>\n",
       "      <th>2</th>\n",
       "      <td>0.837405</td>\n",
       "      <td>0.329110</td>\n",
       "      <td>0.433011</td>\n",
       "      <td>0.296106</td>\n",
       "      <td>0.473252</td>\n",
       "      <td>0.5</td>\n",
       "      <td>0.9</td>\n",
       "      <td>0.666</td>\n",
       "    </tr>\n",
       "    <tr>\n",
       "      <th>3</th>\n",
       "      <td>0.036361</td>\n",
       "      <td>0.784073</td>\n",
       "      <td>0.256466</td>\n",
       "      <td>0.654225</td>\n",
       "      <td>0.445484</td>\n",
       "      <td>0.5</td>\n",
       "      <td>0.9</td>\n",
       "      <td>0.666</td>\n",
       "    </tr>\n",
       "    <tr>\n",
       "      <th>4</th>\n",
       "      <td>0.045914</td>\n",
       "      <td>0.537175</td>\n",
       "      <td>0.494367</td>\n",
       "      <td>0.963783</td>\n",
       "      <td>88.000000</td>\n",
       "      <td>0.5</td>\n",
       "      <td>0.9</td>\n",
       "      <td>0.666</td>\n",
       "    </tr>\n",
       "  </tbody>\n",
       "</table>\n",
       "</div>"
      ],
      "text/plain": [
       "          A          B          C         D          E    F    G      H\n",
       "0  0.326001  67.000000  67.000000  0.913155   0.103338  0.5  0.9    Nan\n",
       "1  0.739126   0.146782   0.933030  0.910299   0.089911  0.5  0.9    Nan\n",
       "2  0.837405   0.329110   0.433011  0.296106   0.473252  0.5  0.9  0.666\n",
       "3  0.036361   0.784073   0.256466  0.654225   0.445484  0.5  0.9  0.666\n",
       "4  0.045914   0.537175   0.494367  0.963783  88.000000  0.5  0.9  0.666"
      ]
     },
     "execution_count": 569,
     "metadata": {},
     "output_type": "execute_result"
    }
   ],
   "source": [
    "df.iloc[:2,7] = 'Nan'\n",
    "df"
   ]
  },
  {
   "cell_type": "code",
   "execution_count": 571,
   "id": "4a194e2a",
   "metadata": {},
   "outputs": [
    {
     "ename": "TypeError",
     "evalue": "cannot perform reduce with flexible type",
     "output_type": "error",
     "traceback": [
      "\u001b[1;31m---------------------------------------------------------------------------\u001b[0m",
      "\u001b[1;31mTypeError\u001b[0m                                 Traceback (most recent call last)",
      "\u001b[1;32m<ipython-input-571-c7d271e1de28>\u001b[0m in \u001b[0;36m<module>\u001b[1;34m\u001b[0m\n\u001b[1;32m----> 1\u001b[1;33m \u001b[0mnp\u001b[0m\u001b[1;33m.\u001b[0m\u001b[0msum\u001b[0m\u001b[1;33m(\u001b[0m\u001b[1;33m[\u001b[0m\u001b[1;34m\"A\"\u001b[0m\u001b[1;33m,\u001b[0m\u001b[1;34m\"B\"\u001b[0m\u001b[1;33m]\u001b[0m\u001b[1;33m)\u001b[0m\u001b[1;33m\u001b[0m\u001b[1;33m\u001b[0m\u001b[0m\n\u001b[0m",
      "\u001b[1;32m<__array_function__ internals>\u001b[0m in \u001b[0;36msum\u001b[1;34m(*args, **kwargs)\u001b[0m\n",
      "\u001b[1;32mC:\\Anaconda3\\lib\\site-packages\\numpy\\core\\fromnumeric.py\u001b[0m in \u001b[0;36msum\u001b[1;34m(a, axis, dtype, out, keepdims, initial, where)\u001b[0m\n\u001b[0;32m   2245\u001b[0m         \u001b[1;32mreturn\u001b[0m \u001b[0mres\u001b[0m\u001b[1;33m\u001b[0m\u001b[1;33m\u001b[0m\u001b[0m\n\u001b[0;32m   2246\u001b[0m \u001b[1;33m\u001b[0m\u001b[0m\n\u001b[1;32m-> 2247\u001b[1;33m     return _wrapreduction(a, np.add, 'sum', axis, dtype, out, keepdims=keepdims,\n\u001b[0m\u001b[0;32m   2248\u001b[0m                           initial=initial, where=where)\n\u001b[0;32m   2249\u001b[0m \u001b[1;33m\u001b[0m\u001b[0m\n",
      "\u001b[1;32mC:\\Anaconda3\\lib\\site-packages\\numpy\\core\\fromnumeric.py\u001b[0m in \u001b[0;36m_wrapreduction\u001b[1;34m(obj, ufunc, method, axis, dtype, out, **kwargs)\u001b[0m\n\u001b[0;32m     85\u001b[0m                 \u001b[1;32mreturn\u001b[0m \u001b[0mreduction\u001b[0m\u001b[1;33m(\u001b[0m\u001b[0maxis\u001b[0m\u001b[1;33m=\u001b[0m\u001b[0maxis\u001b[0m\u001b[1;33m,\u001b[0m \u001b[0mout\u001b[0m\u001b[1;33m=\u001b[0m\u001b[0mout\u001b[0m\u001b[1;33m,\u001b[0m \u001b[1;33m**\u001b[0m\u001b[0mpasskwargs\u001b[0m\u001b[1;33m)\u001b[0m\u001b[1;33m\u001b[0m\u001b[1;33m\u001b[0m\u001b[0m\n\u001b[0;32m     86\u001b[0m \u001b[1;33m\u001b[0m\u001b[0m\n\u001b[1;32m---> 87\u001b[1;33m     \u001b[1;32mreturn\u001b[0m \u001b[0mufunc\u001b[0m\u001b[1;33m.\u001b[0m\u001b[0mreduce\u001b[0m\u001b[1;33m(\u001b[0m\u001b[0mobj\u001b[0m\u001b[1;33m,\u001b[0m \u001b[0maxis\u001b[0m\u001b[1;33m,\u001b[0m \u001b[0mdtype\u001b[0m\u001b[1;33m,\u001b[0m \u001b[0mout\u001b[0m\u001b[1;33m,\u001b[0m \u001b[1;33m**\u001b[0m\u001b[0mpasskwargs\u001b[0m\u001b[1;33m)\u001b[0m\u001b[1;33m\u001b[0m\u001b[1;33m\u001b[0m\u001b[0m\n\u001b[0m\u001b[0;32m     88\u001b[0m \u001b[1;33m\u001b[0m\u001b[0m\n\u001b[0;32m     89\u001b[0m \u001b[1;33m\u001b[0m\u001b[0m\n",
      "\u001b[1;31mTypeError\u001b[0m: cannot perform reduce with flexible type"
     ]
    }
   ],
   "source": [
    "np.sum(loc[[2,\"A\"],[2.\"B\"])"
   ]
  },
  {
   "cell_type": "code",
   "execution_count": null,
   "id": "dd702d3a",
   "metadata": {},
   "outputs": [],
   "source": []
  }
 ],
 "metadata": {
  "kernelspec": {
   "display_name": "Python 3",
   "language": "python",
   "name": "python3"
  },
  "language_info": {
   "codemirror_mode": {
    "name": "ipython",
    "version": 3
   },
   "file_extension": ".py",
   "mimetype": "text/x-python",
   "name": "python",
   "nbconvert_exporter": "python",
   "pygments_lexer": "ipython3",
   "version": "3.8.8"
  }
 },
 "nbformat": 4,
 "nbformat_minor": 5
}
